{
 "cells": [
  {
   "cell_type": "markdown",
   "metadata": {},
   "source": [
    "# Week 2 - Mini Assessment"
   ]
  },
  {
   "cell_type": "markdown",
   "metadata": {},
   "source": [
    "Welcome to you mini assessment for week two. For this assessment, you will be completing 15 exercises where for each new exercise, the difficulty level will only increase. You've got this! 😎\n",
    "\n",
    "At the end of an hour, we will walk over each question together. Feel free to post it on GitHub once you finish, under your respective folder for everything related to week 2."
   ]
  },
  {
   "cell_type": "markdown",
   "metadata": {},
   "source": [
    "1. import the numpy package and check its version."
   ]
  },
  {
   "cell_type": "code",
   "execution_count": 4,
   "metadata": {},
   "outputs": [],
   "source": [
    "import numpy as np"
   ]
  },
  {
   "cell_type": "code",
   "execution_count": 5,
   "metadata": {},
   "outputs": [
    {
     "data": {
      "text/plain": [
       "'1.18.4'"
      ]
     },
     "execution_count": 5,
     "metadata": {},
     "output_type": "execute_result"
    }
   ],
   "source": [
    "np.__version__"
   ]
  },
  {
   "cell_type": "markdown",
   "metadata": {},
   "source": [
    "2. Create an numpy range of values from 0 to 49 and name it `mynums`."
   ]
  },
  {
   "cell_type": "code",
   "execution_count": 9,
   "metadata": {},
   "outputs": [
    {
     "data": {
      "text/plain": [
       "array([ 0,  1,  2,  3,  4,  5,  6,  7,  8,  9, 10, 11, 12, 13, 14, 15, 16,\n",
       "       17, 18, 19, 20, 21, 22, 23, 24, 25, 26, 27, 28, 29, 30, 31, 32, 33,\n",
       "       34, 35, 36, 37, 38, 39, 40, 41, 42, 43, 44, 45, 46, 47, 48, 49])"
      ]
     },
     "execution_count": 9,
     "metadata": {},
     "output_type": "execute_result"
    }
   ],
   "source": [
    "np.arange (50)"
   ]
  },
  {
   "cell_type": "code",
   "execution_count": 10,
   "metadata": {},
   "outputs": [],
   "source": [
    "mynums = np.arange (50)"
   ]
  },
  {
   "cell_type": "markdown",
   "metadata": {},
   "source": [
    "3. Reshape the array you created in step 2 into a matrix with the shape below and assign a copy of it to a variable called `my_matrix`."
   ]
  },
  {
   "cell_type": "code",
   "execution_count": 121,
   "metadata": {},
   "outputs": [],
   "source": [
    "my_matrix = mynums.reshape (5,10)"
   ]
  },
  {
   "cell_type": "code",
   "execution_count": 122,
   "metadata": {},
   "outputs": [
    {
     "data": {
      "text/plain": [
       "array([[ 0,  1,  2,  3,  4,  5,  6,  7,  8,  9],\n",
       "       [10, 11, 12, 13, 14, 15, 16, 17, 18, 19],\n",
       "       [20, 21, 22, 23, 24, 25, 26, 27, 28, 29],\n",
       "       [30, 31, 32, 33, 34, 35, 36, 37, 38, 39],\n",
       "       [40, 41, 42, 43, 44, 45, 46, 47, 48, 49]])"
      ]
     },
     "execution_count": 122,
     "metadata": {},
     "output_type": "execute_result"
    }
   ],
   "source": [
    "my_matrix"
   ]
  },
  {
   "cell_type": "markdown",
   "metadata": {},
   "source": [
    "4. Create a linearly-spaced array of size 100 between the numbers 20 to 100, assign it to the variable, `num_increases` and print it."
   ]
  },
  {
   "cell_type": "code",
   "execution_count": 89,
   "metadata": {},
   "outputs": [],
   "source": [
    "num_increases = np.linspace(20,100,100)"
   ]
  },
  {
   "cell_type": "code",
   "execution_count": 91,
   "metadata": {
    "scrolled": true
   },
   "outputs": [
    {
     "name": "stdout",
     "output_type": "stream",
     "text": [
      "[ 20.          20.80808081  21.61616162  22.42424242  23.23232323\n",
      "  24.04040404  24.84848485  25.65656566  26.46464646  27.27272727\n",
      "  28.08080808  28.88888889  29.6969697   30.50505051  31.31313131\n",
      "  32.12121212  32.92929293  33.73737374  34.54545455  35.35353535\n",
      "  36.16161616  36.96969697  37.77777778  38.58585859  39.39393939\n",
      "  40.2020202   41.01010101  41.81818182  42.62626263  43.43434343\n",
      "  44.24242424  45.05050505  45.85858586  46.66666667  47.47474747\n",
      "  48.28282828  49.09090909  49.8989899   50.70707071  51.51515152\n",
      "  52.32323232  53.13131313  53.93939394  54.74747475  55.55555556\n",
      "  56.36363636  57.17171717  57.97979798  58.78787879  59.5959596\n",
      "  60.4040404   61.21212121  62.02020202  62.82828283  63.63636364\n",
      "  64.44444444  65.25252525  66.06060606  66.86868687  67.67676768\n",
      "  68.48484848  69.29292929  70.1010101   70.90909091  71.71717172\n",
      "  72.52525253  73.33333333  74.14141414  74.94949495  75.75757576\n",
      "  76.56565657  77.37373737  78.18181818  78.98989899  79.7979798\n",
      "  80.60606061  81.41414141  82.22222222  83.03030303  83.83838384\n",
      "  84.64646465  85.45454545  86.26262626  87.07070707  87.87878788\n",
      "  88.68686869  89.49494949  90.3030303   91.11111111  91.91919192\n",
      "  92.72727273  93.53535354  94.34343434  95.15151515  95.95959596\n",
      "  96.76767677  97.57575758  98.38383838  99.19191919 100.        ]\n"
     ]
    }
   ],
   "source": [
    "print(num_increases)"
   ]
  },
  {
   "cell_type": "markdown",
   "metadata": {},
   "source": [
    "5. Create an numpy array with 20 zeros, assign it to the variable `zeroes`."
   ]
  },
  {
   "cell_type": "code",
   "execution_count": 14,
   "metadata": {},
   "outputs": [],
   "source": [
    "zeroes = np.full (20,0)"
   ]
  },
  {
   "cell_type": "code",
   "execution_count": 17,
   "metadata": {},
   "outputs": [
    {
     "data": {
      "text/plain": [
       "array([0, 0, 0, 0, 0, 0, 0, 0, 0, 0, 0, 0, 0, 0, 0, 0, 0, 0, 0, 0])"
      ]
     },
     "execution_count": 17,
     "metadata": {},
     "output_type": "execute_result"
    }
   ],
   "source": [
    "zeroes"
   ]
  },
  {
   "cell_type": "markdown",
   "metadata": {},
   "source": [
    "6. Create a two dimensional array of size 7 by 8 filled with 1s and do the following:\n",
    "- mulptiply the first row by 2\n",
    "- add 3 and raise to the power of two the odd columns starting from the beginning\n",
    "- subtract 10 and multiply by 15 the elements in the even rows and odd columns"
   ]
  },
  {
   "cell_type": "code",
   "execution_count": 79,
   "metadata": {},
   "outputs": [],
   "source": [
    "array = np.full (7*8,1)"
   ]
  },
  {
   "cell_type": "code",
   "execution_count": 234,
   "metadata": {},
   "outputs": [],
   "source": [
    "array1 = array.reshape (7,8).copy()"
   ]
  },
  {
   "cell_type": "code",
   "execution_count": 235,
   "metadata": {},
   "outputs": [
    {
     "data": {
      "text/plain": [
       "array([[1, 1, 1, 1, 1, 1, 1, 1],\n",
       "       [1, 1, 1, 1, 1, 1, 1, 1],\n",
       "       [1, 1, 1, 1, 1, 1, 1, 1],\n",
       "       [1, 1, 1, 1, 1, 1, 1, 1],\n",
       "       [1, 1, 1, 1, 1, 1, 1, 1],\n",
       "       [1, 1, 1, 1, 1, 1, 1, 1],\n",
       "       [1, 1, 1, 1, 1, 1, 1, 1]])"
      ]
     },
     "execution_count": 235,
     "metadata": {},
     "output_type": "execute_result"
    }
   ],
   "source": [
    "array1"
   ]
  },
  {
   "cell_type": "code",
   "execution_count": 82,
   "metadata": {},
   "outputs": [],
   "source": [
    "array1[0] = (array1[0]*2) #mulptiply the first row by 2"
   ]
  },
  {
   "cell_type": "code",
   "execution_count": 83,
   "metadata": {},
   "outputs": [
    {
     "data": {
      "text/plain": [
       "array([[2, 2, 2, 2, 2, 2, 2, 2],\n",
       "       [1, 1, 1, 1, 1, 1, 1, 1],\n",
       "       [1, 1, 1, 1, 1, 1, 1, 1],\n",
       "       [1, 1, 1, 1, 1, 1, 1, 1],\n",
       "       [1, 1, 1, 1, 1, 1, 1, 1],\n",
       "       [1, 1, 1, 1, 1, 1, 1, 1],\n",
       "       [1, 1, 1, 1, 1, 1, 1, 1]])"
      ]
     },
     "execution_count": 83,
     "metadata": {},
     "output_type": "execute_result"
    }
   ],
   "source": [
    "array1"
   ]
  },
  {
   "cell_type": "code",
   "execution_count": 84,
   "metadata": {},
   "outputs": [],
   "source": [
    "array1[:, ::2] = ((array1[:, ::2]+3)**2) #- add 3 and raise to the power of two the odd columns starting from the beginning\n"
   ]
  },
  {
   "cell_type": "code",
   "execution_count": 85,
   "metadata": {},
   "outputs": [
    {
     "data": {
      "text/plain": [
       "array([[25,  2, 25,  2, 25,  2, 25,  2],\n",
       "       [16,  1, 16,  1, 16,  1, 16,  1],\n",
       "       [16,  1, 16,  1, 16,  1, 16,  1],\n",
       "       [16,  1, 16,  1, 16,  1, 16,  1],\n",
       "       [16,  1, 16,  1, 16,  1, 16,  1],\n",
       "       [16,  1, 16,  1, 16,  1, 16,  1],\n",
       "       [16,  1, 16,  1, 16,  1, 16,  1]])"
      ]
     },
     "execution_count": 85,
     "metadata": {},
     "output_type": "execute_result"
    }
   ],
   "source": [
    "array1"
   ]
  },
  {
   "cell_type": "code",
   "execution_count": 86,
   "metadata": {},
   "outputs": [],
   "source": [
    "array1[1::2, ::2] = ((array1[1::2, ::2]-10)*15) #- subtract 10 and multiply by 15 the elements in the even rows and odd columns"
   ]
  },
  {
   "cell_type": "code",
   "execution_count": 87,
   "metadata": {},
   "outputs": [
    {
     "data": {
      "text/plain": [
       "array([[25,  2, 25,  2, 25,  2, 25,  2],\n",
       "       [90,  1, 90,  1, 90,  1, 90,  1],\n",
       "       [16,  1, 16,  1, 16,  1, 16,  1],\n",
       "       [90,  1, 90,  1, 90,  1, 90,  1],\n",
       "       [16,  1, 16,  1, 16,  1, 16,  1],\n",
       "       [90,  1, 90,  1, 90,  1, 90,  1],\n",
       "       [16,  1, 16,  1, 16,  1, 16,  1]])"
      ]
     },
     "execution_count": 87,
     "metadata": {},
     "output_type": "execute_result"
    }
   ],
   "source": [
    "array1"
   ]
  },
  {
   "cell_type": "markdown",
   "metadata": {},
   "source": [
    "7. Create a numpy array starting with 20 and ending with 40 with 10 equally spaced values."
   ]
  },
  {
   "cell_type": "code",
   "execution_count": 92,
   "metadata": {},
   "outputs": [],
   "source": [
    "new_array1 = np.linspace(20,40,10)"
   ]
  },
  {
   "cell_type": "code",
   "execution_count": 94,
   "metadata": {},
   "outputs": [
    {
     "data": {
      "text/plain": [
       "10"
      ]
     },
     "execution_count": 94,
     "metadata": {},
     "output_type": "execute_result"
    }
   ],
   "source": [
    "len(new_array1)"
   ]
  },
  {
   "cell_type": "code",
   "execution_count": 95,
   "metadata": {},
   "outputs": [
    {
     "name": "stdout",
     "output_type": "stream",
     "text": [
      "[20.         22.22222222 24.44444444 26.66666667 28.88888889 31.11111111\n",
      " 33.33333333 35.55555556 37.77777778 40.        ]\n"
     ]
    }
   ],
   "source": [
    "print(new_array1)"
   ]
  },
  {
   "cell_type": "markdown",
   "metadata": {},
   "source": [
    "8. Create a 9 by 9 matrix with random integers from 100 to 500 and use the dtype \"int32\"."
   ]
  },
  {
   "cell_type": "code",
   "execution_count": 105,
   "metadata": {},
   "outputs": [],
   "source": [
    "matrix = np.random.randint(100,500,(9,9), dtype='int32')"
   ]
  },
  {
   "cell_type": "code",
   "execution_count": 107,
   "metadata": {},
   "outputs": [
    {
     "name": "stdout",
     "output_type": "stream",
     "text": [
      "int32\n"
     ]
    }
   ],
   "source": [
    "print(matrix.dtype)"
   ]
  },
  {
   "cell_type": "code",
   "execution_count": 131,
   "metadata": {},
   "outputs": [
    {
     "data": {
      "text/plain": [
       "array([[149, 160, 198, 361, 279, 289, 155, 286, 373],\n",
       "       [137, 273, 314, 241, 135, 252, 375, 429, 207],\n",
       "       [103, 355, 197, 447, 330, 335, 291, 162, 391],\n",
       "       [443, 375, 396, 230, 242, 118, 461, 255, 169],\n",
       "       [297, 256, 160, 359, 465, 116, 222, 432, 382],\n",
       "       [374, 184, 120, 173, 352, 141, 257, 107, 247],\n",
       "       [260, 470, 166, 444, 318, 446, 274, 343, 103],\n",
       "       [302, 107, 245, 276, 489, 243, 374, 345, 325],\n",
       "       [282, 142, 318, 298, 302, 214, 397, 195, 429]])"
      ]
     },
     "execution_count": 131,
     "metadata": {},
     "output_type": "execute_result"
    }
   ],
   "source": [
    "matrix"
   ]
  },
  {
   "cell_type": "markdown",
   "metadata": {},
   "source": [
    "9. Create an empty array of 20 elements with shape 2 by 10, dtype 'float32' and add a different number to each row."
   ]
  },
  {
   "cell_type": "code",
   "execution_count": 132,
   "metadata": {},
   "outputs": [],
   "source": [
    "empty_array = np.empty((2,10),'float32')"
   ]
  },
  {
   "cell_type": "code",
   "execution_count": 133,
   "metadata": {},
   "outputs": [
    {
     "data": {
      "text/plain": [
       "array([[0., 0., 0., 0., 0., 0., 0., 0., 0., 0.],\n",
       "       [0., 0., 0., 0., 0., 0., 0., 0., 0., 0.]], dtype=float32)"
      ]
     },
     "execution_count": 133,
     "metadata": {},
     "output_type": "execute_result"
    }
   ],
   "source": [
    "empty_array"
   ]
  },
  {
   "cell_type": "markdown",
   "metadata": {},
   "source": [
    "10. Create an array with 15 random numbers between 100 and 200 and print the maximum value in the array."
   ]
  },
  {
   "cell_type": "code",
   "execution_count": 127,
   "metadata": {},
   "outputs": [],
   "source": [
    "matrix1 = np.random.randint(100,200,15)"
   ]
  },
  {
   "cell_type": "code",
   "execution_count": 128,
   "metadata": {},
   "outputs": [
    {
     "data": {
      "text/plain": [
       "array([127, 100, 127, 146, 190, 144, 128, 189, 142, 152, 188, 126, 101,\n",
       "       177, 125])"
      ]
     },
     "execution_count": 128,
     "metadata": {},
     "output_type": "execute_result"
    }
   ],
   "source": [
    "matrix1"
   ]
  },
  {
   "cell_type": "markdown",
   "metadata": {},
   "source": [
    "11. Create an array with the following numbers [40, 41, 26, 14, 15, 47, 43, 33, 44, 22], select the 5th to 10th elements, assign each to a new variable, change their value, and then print all 3 (the first array and your next two variables."
   ]
  },
  {
   "cell_type": "code",
   "execution_count": 230,
   "metadata": {},
   "outputs": [
    {
     "data": {
      "text/plain": [
       "[40, 41, 26, 14, 15, 47, 43, 33, 44, 22]"
      ]
     },
     "execution_count": 230,
     "metadata": {},
     "output_type": "execute_result"
    }
   ],
   "source": [
    "array2 = [40, 41, 26, 14, 15, 47, 43, 33, 44, 22]\n",
    "array2"
   ]
  },
  {
   "cell_type": "code",
   "execution_count": 227,
   "metadata": {},
   "outputs": [
    {
     "data": {
      "text/plain": [
       "15"
      ]
     },
     "execution_count": 227,
     "metadata": {},
     "output_type": "execute_result"
    }
   ],
   "source": [
    "fith_element = array2[4]\n",
    "fith_element"
   ]
  },
  {
   "cell_type": "code",
   "execution_count": 228,
   "metadata": {},
   "outputs": [
    {
     "data": {
      "text/plain": [
       "22"
      ]
     },
     "execution_count": 228,
     "metadata": {},
     "output_type": "execute_result"
    }
   ],
   "source": [
    "tenth_element = array2[9]\n",
    "tenth_element"
   ]
  },
  {
   "cell_type": "code",
   "execution_count": 232,
   "metadata": {},
   "outputs": [],
   "source": [
    "array2[4] = 5\n",
    "array2[9] = 10"
   ]
  },
  {
   "cell_type": "code",
   "execution_count": 233,
   "metadata": {},
   "outputs": [
    {
     "name": "stdout",
     "output_type": "stream",
     "text": [
      "[40, 41, 26, 14, 5, 47, 43, 33, 44, 10] 15 22\n"
     ]
    }
   ],
   "source": [
    "print (array2, fith_element, tenth_element)"
   ]
  },
  {
   "cell_type": "markdown",
   "metadata": {},
   "source": [
    "12. Create an array of 360 random numbers from -10 to 50 (to resemble the weather) and find the min, max, 25th percentile, 75 percentile, and the median."
   ]
  },
  {
   "cell_type": "code",
   "execution_count": 149,
   "metadata": {},
   "outputs": [
    {
     "data": {
      "text/plain": [
       "array([ 19,   0,  46,   8,  36,   2, -10,  33,   5,  46,  26,  29,  18,\n",
       "        -6,  20,  30,  34,  44,   7,  -8,  10,  -1,  23,  -1,  -9,  33,\n",
       "        36,  10,   8,  -6,  11,  23,  17,  -7,  25,  45,  39,  39,  28,\n",
       "        -6,  -3,  49,   2,  36, -10,  20,  40,  13,  35,  37,  45,  13,\n",
       "        41,  14,   1,  40,  40,  38,  28,  49,  17,   3,  33,  16,  39,\n",
       "        38,  39,   8,  38,   7,  -9,  46,   1,  26,  18,  17,  34,   7,\n",
       "        28,  43,  24,  12,  30,  13,  48,   0,  20,  45,  -9,   4,  44,\n",
       "        31,  23,  18,  33,  18,  45,   1,  12,  34,  13,  10,  12,   1,\n",
       "        29,  -1,  -9,  14,  32,  -3,   7,  43,  41,  43,   8,  18,  18,\n",
       "        -7,  20,   0,  13, -10,  37,   7,   3,   9, -10,  32,  -9,  10,\n",
       "        39,  26,   7,  14,  23,  41,  48,  40,  42,   6,  38,   6,  14,\n",
       "        31,  28,  45,  -1,  32,  21,  27,  44,  29,  40,   7,  -9,  18,\n",
       "         3,  11,  11,  -9,   9,   1,  42,  34,   5,  14,  46,  -2,  -4,\n",
       "        40,   4,   2,  -8,   4,  39,  -7,  42, -10,  33,  27,  16,   3,\n",
       "       -10, -10,  19,  42,  33,  -7,  17,  28,  42,  14,   8,  34,   5,\n",
       "        49,  -1,  18,  17,   1,  17,  45,  49,  25,  24,  32,  37,  20,\n",
       "        38,  14,  13,  22,  24,  48,   0,   6,  42,  41,  31,  -1,   3,\n",
       "        40,  48,   6,  13, -10,  35,  18,   9,  -4,   4,  -1,   4,   6,\n",
       "        17,  43,   9,  19,  -8,  10,  28,  25,   9,   8,  33,  43,   0,\n",
       "        -2,   4,  29,  17,   3,  31,  30,   7,   7,  11, -10,  30,  13,\n",
       "        -4,  39,  45,  46,  22,  43,  43,  34,  31,  -5,  19,  26,  26,\n",
       "        10,  43,  10,  16,   8,   8,  10,  11,  10,  48,  33,  39,  47,\n",
       "        22,  21,   6,   5,   8,  28,  22,  18,   7,  15,  49,   7,  45,\n",
       "        40,   0,  48,  26,  16,  25,  29,   1,  26,   3,  27,  38,  41,\n",
       "        45,   1,  35,  -7,  -3,  15,  22,  27,  46,   2,  24,  40,   3,\n",
       "        -8,  40,  26,  14,  30,  39,  -4,  19,   2,  14,  25,  15,  36,\n",
       "        -5,  18,  -6,  21,  13,   4,   7,   3,   9,  21,  39,   5,  48,\n",
       "        38,  -2,  35,   8,   2,  25,   9,  -3,  34])"
      ]
     },
     "execution_count": 149,
     "metadata": {},
     "output_type": "execute_result"
    }
   ],
   "source": [
    "array4 = np.random.randint(-10,50,360)\n",
    "array4"
   ]
  },
  {
   "cell_type": "code",
   "execution_count": 151,
   "metadata": {},
   "outputs": [
    {
     "data": {
      "text/plain": [
       "-10"
      ]
     },
     "execution_count": 151,
     "metadata": {},
     "output_type": "execute_result"
    }
   ],
   "source": [
    "np.min(array4)"
   ]
  },
  {
   "cell_type": "code",
   "execution_count": 152,
   "metadata": {},
   "outputs": [
    {
     "data": {
      "text/plain": [
       "49"
      ]
     },
     "execution_count": 152,
     "metadata": {},
     "output_type": "execute_result"
    }
   ],
   "source": [
    "np.max(array4)"
   ]
  },
  {
   "cell_type": "code",
   "execution_count": 154,
   "metadata": {},
   "outputs": [
    {
     "data": {
      "text/plain": [
       "5.75"
      ]
     },
     "execution_count": 154,
     "metadata": {},
     "output_type": "execute_result"
    }
   ],
   "source": [
    "np.percentile(array4,25)"
   ]
  },
  {
   "cell_type": "code",
   "execution_count": 156,
   "metadata": {},
   "outputs": [
    {
     "data": {
      "text/plain": [
       "34.0"
      ]
     },
     "execution_count": 156,
     "metadata": {},
     "output_type": "execute_result"
    }
   ],
   "source": [
    "np.percentile(array4,75)"
   ]
  },
  {
   "cell_type": "code",
   "execution_count": 157,
   "metadata": {},
   "outputs": [
    {
     "data": {
      "text/plain": [
       "18.0"
      ]
     },
     "execution_count": 157,
     "metadata": {},
     "output_type": "execute_result"
    }
   ],
   "source": [
    "np.median(array4)"
   ]
  },
  {
   "cell_type": "markdown",
   "metadata": {},
   "source": [
    "13. Reshape the array you created in step 12 into a matrix of 300 by 12 ad get the same values but only for the months this time."
   ]
  },
  {
   "cell_type": "code",
   "execution_count": 174,
   "metadata": {},
   "outputs": [
    {
     "data": {
      "text/plain": [
       "array([[ 19,   0,  46,   8,  36,   2, -10,  33,   5,  46,  26,  29,  18,\n",
       "         -6,  20,  30,  34,  44,   7,  -8,  10,  -1,  23,  -1,  -9,  33,\n",
       "         36,  10,   8,  -6],\n",
       "       [ 11,  23,  17,  -7,  25,  45,  39,  39,  28,  -6,  -3,  49,   2,\n",
       "         36, -10,  20,  40,  13,  35,  37,  45,  13,  41,  14,   1,  40,\n",
       "         40,  38,  28,  49],\n",
       "       [ 17,   3,  33,  16,  39,  38,  39,   8,  38,   7,  -9,  46,   1,\n",
       "         26,  18,  17,  34,   7,  28,  43,  24,  12,  30,  13,  48,   0,\n",
       "         20,  45,  -9,   4],\n",
       "       [ 44,  31,  23,  18,  33,  18,  45,   1,  12,  34,  13,  10,  12,\n",
       "          1,  29,  -1,  -9,  14,  32,  -3,   7,  43,  41,  43,   8,  18,\n",
       "         18,  -7,  20,   0],\n",
       "       [ 13, -10,  37,   7,   3,   9, -10,  32,  -9,  10,  39,  26,   7,\n",
       "         14,  23,  41,  48,  40,  42,   6,  38,   6,  14,  31,  28,  45,\n",
       "         -1,  32,  21,  27],\n",
       "       [ 44,  29,  40,   7,  -9,  18,   3,  11,  11,  -9,   9,   1,  42,\n",
       "         34,   5,  14,  46,  -2,  -4,  40,   4,   2,  -8,   4,  39,  -7,\n",
       "         42, -10,  33,  27],\n",
       "       [ 16,   3, -10, -10,  19,  42,  33,  -7,  17,  28,  42,  14,   8,\n",
       "         34,   5,  49,  -1,  18,  17,   1,  17,  45,  49,  25,  24,  32,\n",
       "         37,  20,  38,  14],\n",
       "       [ 13,  22,  24,  48,   0,   6,  42,  41,  31,  -1,   3,  40,  48,\n",
       "          6,  13, -10,  35,  18,   9,  -4,   4,  -1,   4,   6,  17,  43,\n",
       "          9,  19,  -8,  10],\n",
       "       [ 28,  25,   9,   8,  33,  43,   0,  -2,   4,  29,  17,   3,  31,\n",
       "         30,   7,   7,  11, -10,  30,  13,  -4,  39,  45,  46,  22,  43,\n",
       "         43,  34,  31,  -5],\n",
       "       [ 19,  26,  26,  10,  43,  10,  16,   8,   8,  10,  11,  10,  48,\n",
       "         33,  39,  47,  22,  21,   6,   5,   8,  28,  22,  18,   7,  15,\n",
       "         49,   7,  45,  40],\n",
       "       [  0,  48,  26,  16,  25,  29,   1,  26,   3,  27,  38,  41,  45,\n",
       "          1,  35,  -7,  -3,  15,  22,  27,  46,   2,  24,  40,   3,  -8,\n",
       "         40,  26,  14,  30],\n",
       "       [ 39,  -4,  19,   2,  14,  25,  15,  36,  -5,  18,  -6,  21,  13,\n",
       "          4,   7,   3,   9,  21,  39,   5,  48,  38,  -2,  35,   8,   2,\n",
       "         25,   9,  -3,  34]])"
      ]
     },
     "execution_count": 174,
     "metadata": {},
     "output_type": "execute_result"
    }
   ],
   "source": [
    "array_months = array4.reshape(12,30).copy() #assuming 30 days, not 300\n",
    "array_months"
   ]
  },
  {
   "cell_type": "code",
   "execution_count": 180,
   "metadata": {},
   "outputs": [
    {
     "name": "stdout",
     "output_type": "stream",
     "text": [
      "[ 19   0  46   8  36   2 -10  33   5  46  26  29  18  -6  20  30  34  44\n",
      "   7  -8  10  -1  23  -1  -9  33  36  10   8  -6]\n",
      "The minimum, maximum and median temperature for each month is:\n",
      "-10C , 46C , 14.0C\n",
      "The 25th percentile and 75th percentile temperature ranges are:\n",
      " 0.5C , 32.25C\n",
      "\n",
      "[ 11  23  17  -7  25  45  39  39  28  -6  -3  49   2  36 -10  20  40  13\n",
      "  35  37  45  13  41  14   1  40  40  38  28  49]\n",
      "The minimum, maximum and median temperature for each month is:\n",
      "-10C , 49C , 28.0C\n",
      "The 25th percentile and 75th percentile temperature ranges are:\n",
      " 13.0C , 39.75C\n",
      "\n",
      "[17  3 33 16 39 38 39  8 38  7 -9 46  1 26 18 17 34  7 28 43 24 12 30 13\n",
      " 48  0 20 45 -9  4]\n",
      "The minimum, maximum and median temperature for each month is:\n",
      "-9C , 48C , 19.0C\n",
      "The 25th percentile and 75th percentile temperature ranges are:\n",
      " 7.25C , 37.0C\n",
      "\n",
      "[44 31 23 18 33 18 45  1 12 34 13 10 12  1 29 -1 -9 14 32 -3  7 43 41 43\n",
      "  8 18 18 -7 20  0]\n",
      "The minimum, maximum and median temperature for each month is:\n",
      "-9C , 45C , 18.0C\n",
      "The 25th percentile and 75th percentile temperature ranges are:\n",
      " 7.25C , 31.75C\n",
      "\n",
      "[ 13 -10  37   7   3   9 -10  32  -9  10  39  26   7  14  23  41  48  40\n",
      "  42   6  38   6  14  31  28  45  -1  32  21  27]\n",
      "The minimum, maximum and median temperature for each month is:\n",
      "-10C , 48C , 22.0C\n",
      "The 25th percentile and 75th percentile temperature ranges are:\n",
      " 7.0C , 35.75C\n",
      "\n",
      "[ 44  29  40   7  -9  18   3  11  11  -9   9   1  42  34   5  14  46  -2\n",
      "  -4  40   4   2  -8   4  39  -7  42 -10  33  27]\n",
      "The minimum, maximum and median temperature for each month is:\n",
      "-10C , 46C , 10.0C\n",
      "The 25th percentile and 75th percentile temperature ranges are:\n",
      " 1.25C , 33.75C\n",
      "\n",
      "[ 16   3 -10 -10  19  42  33  -7  17  28  42  14   8  34   5  49  -1  18\n",
      "  17   1  17  45  49  25  24  32  37  20  38  14]\n",
      "The minimum, maximum and median temperature for each month is:\n",
      "-10C , 49C , 18.5C\n",
      "The 25th percentile and 75th percentile temperature ranges are:\n",
      " 9.5C , 33.75C\n",
      "\n",
      "[ 13  22  24  48   0   6  42  41  31  -1   3  40  48   6  13 -10  35  18\n",
      "   9  -4   4  -1   4   6  17  43   9  19  -8  10]\n",
      "The minimum, maximum and median temperature for each month is:\n",
      "-10C , 48C , 11.5C\n",
      "The 25th percentile and 75th percentile temperature ranges are:\n",
      " 4.0C , 29.25C\n",
      "\n",
      "[ 28  25   9   8  33  43   0  -2   4  29  17   3  31  30   7   7  11 -10\n",
      "  30  13  -4  39  45  46  22  43  43  34  31  -5]\n",
      "The minimum, maximum and median temperature for each month is:\n",
      "-10C , 46C , 23.5C\n",
      "The 25th percentile and 75th percentile temperature ranges are:\n",
      " 7.0C , 32.5C\n",
      "\n",
      "[19 26 26 10 43 10 16  8  8 10 11 10 48 33 39 47 22 21  6  5  8 28 22 18\n",
      "  7 15 49  7 45 40]\n",
      "The minimum, maximum and median temperature for each month is:\n",
      "5C , 49C , 18.5C\n",
      "The 25th percentile and 75th percentile temperature ranges are:\n",
      " 10.0C , 31.75C\n",
      "\n",
      "[ 0 48 26 16 25 29  1 26  3 27 38 41 45  1 35 -7 -3 15 22 27 46  2 24 40\n",
      "  3 -8 40 26 14 30]\n",
      "The minimum, maximum and median temperature for each month is:\n",
      "-8C , 48C , 25.5C\n",
      "The 25th percentile and 75th percentile temperature ranges are:\n",
      " 3.0C , 33.75C\n",
      "\n",
      "[39 -4 19  2 14 25 15 36 -5 18 -6 21 13  4  7  3  9 21 39  5 48 38 -2 35\n",
      "  8  2 25  9 -3 34]\n",
      "The minimum, maximum and median temperature for each month is:\n",
      "-6C , 48C , 13.5C\n",
      "The 25th percentile and 75th percentile temperature ranges are:\n",
      " 3.25C , 25.0C\n",
      "\n"
     ]
    }
   ],
   "source": [
    "def min_Max_Median_Percentiles():\n",
    "    for i in array_months:\n",
    "        min_temp = np.min(i)\n",
    "        max_temp = np.max(i)\n",
    "        median_temp = np.median(i)\n",
    "        twenty_five = np.percentile(i,25)\n",
    "        seventy_five = np.percentile(i,75)\n",
    "        print (i)  \n",
    "        print(f'The minimum, maximum and median temperature for each month is:\\n{min_temp}C , {max_temp}C , {median_temp}C')\n",
    "        print(f'The 25th percentile and 75th percentile temperature ranges are:\\n {twenty_five}C , {seventy_five}C')\n",
    "        print()\n",
    "min_Max_Median_Percentiles()"
   ]
  },
  {
   "cell_type": "markdown",
   "metadata": {},
   "source": [
    "14. Create a mask for your data, and filter out and print:\n",
    "- average temperature of the days where the temperature was below 10\n",
    "- average temperature of the days where the temperature was greater than 30"
   ]
  },
  {
   "cell_type": "code",
   "execution_count": 185,
   "metadata": {},
   "outputs": [],
   "source": [
    "below_ten = array4 < 10\n",
    "warmer_thirty = array4 > 30"
   ]
  },
  {
   "cell_type": "code",
   "execution_count": 210,
   "metadata": {},
   "outputs": [],
   "source": [
    "cold_days = np.mean(array4[below_ten])\n",
    "hot_days = np.mean(array4[warmer_thirty])"
   ]
  },
  {
   "cell_type": "code",
   "execution_count": 211,
   "metadata": {},
   "outputs": [
    {
     "name": "stdout",
     "output_type": "stream",
     "text": [
      "The Average temperature on cold days was 0.54C ☀️\n",
      "The Average temperature on hot days was 39.98C 😎\n"
     ]
    }
   ],
   "source": [
    "print(f\"The Average temperature on cold days was {cold_days:.2f}C ☀️\")\n",
    "print(f\"The Average temperature on hot days was {hot_days:.2f}C 😎\")"
   ]
  },
  {
   "cell_type": "markdown",
   "metadata": {},
   "source": [
    "15. Create a full 10 by 10 matrix with a number of your choosing and assign it to a variable. After printing that variables, unravel the matrix and assign the array to a new number."
   ]
  },
  {
   "cell_type": "code",
   "execution_count": 215,
   "metadata": {},
   "outputs": [
    {
     "data": {
      "text/plain": [
       "array([[1, 1, 1, 1, 1, 1, 1, 1, 1, 1],\n",
       "       [1, 1, 1, 1, 1, 1, 1, 1, 1, 1],\n",
       "       [1, 1, 1, 1, 1, 1, 1, 1, 1, 1],\n",
       "       [1, 1, 1, 1, 1, 1, 1, 1, 1, 1],\n",
       "       [1, 1, 1, 1, 1, 1, 1, 1, 1, 1],\n",
       "       [1, 1, 1, 1, 1, 1, 1, 1, 1, 1],\n",
       "       [1, 1, 1, 1, 1, 1, 1, 1, 1, 1],\n",
       "       [1, 1, 1, 1, 1, 1, 1, 1, 1, 1],\n",
       "       [1, 1, 1, 1, 1, 1, 1, 1, 1, 1],\n",
       "       [1, 1, 1, 1, 1, 1, 1, 1, 1, 1]])"
      ]
     },
     "execution_count": 215,
     "metadata": {},
     "output_type": "execute_result"
    }
   ],
   "source": [
    "all_ones = np.full((10,10),1)\n",
    "all_ones"
   ]
  },
  {
   "cell_type": "code",
   "execution_count": 224,
   "metadata": {},
   "outputs": [
    {
     "data": {
      "text/plain": [
       "array([2, 2, 2, 2, 2, 2, 2, 2, 2, 2, 2, 2, 2, 2, 2, 2, 2, 2, 2, 2, 2, 2,\n",
       "       2, 2, 2, 2, 2, 2, 2, 2, 2, 2, 2, 2, 2, 2, 2, 2, 2, 2, 2, 2, 2, 2,\n",
       "       2, 2, 2, 2, 2, 2, 2, 2, 2, 2, 2, 2, 2, 2, 2, 2, 2, 2, 2, 2, 2, 2,\n",
       "       2, 2, 2, 2, 2, 2, 2, 2, 2, 2, 2, 2, 2, 2, 2, 2, 2, 2, 2, 2, 2, 2,\n",
       "       2, 2, 2, 2, 2, 2, 2, 2, 2, 2, 2, 2])"
      ]
     },
     "execution_count": 224,
     "metadata": {},
     "output_type": "execute_result"
    }
   ],
   "source": [
    "two = all_ones.ravel() + 1\n",
    "two"
   ]
  },
  {
   "cell_type": "code",
   "execution_count": null,
   "metadata": {},
   "outputs": [],
   "source": []
  }
 ],
 "metadata": {
  "kernelspec": {
   "display_name": "Python 3",
   "language": "python",
   "name": "python3"
  },
  "language_info": {
   "codemirror_mode": {
    "name": "ipython",
    "version": 3
   },
   "file_extension": ".py",
   "mimetype": "text/x-python",
   "name": "python",
   "nbconvert_exporter": "python",
   "pygments_lexer": "ipython3",
   "version": "3.7.6"
  }
 },
 "nbformat": 4,
 "nbformat_minor": 4
}
