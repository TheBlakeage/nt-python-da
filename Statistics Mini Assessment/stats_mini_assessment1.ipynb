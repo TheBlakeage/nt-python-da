{
 "cells": [
  {
   "cell_type": "markdown",
   "metadata": {},
   "source": [
    "# Statistics Mini Assessment Part 1"
   ]
  },
  {
   "cell_type": "markdown",
   "metadata": {},
   "source": [
    "## Exercise 1\n",
    "\n",
    "1. Load a dataset of your choosing from those found in Canvas. It can be the same one we are working with.\n",
    "2. Inspect it and write down at least 5 issues you identified in this step.\n",
    "3. Proceed to cleaning and preparing it for analysis."
   ]
  },
  {
   "cell_type": "code",
   "execution_count": 1,
   "metadata": {},
   "outputs": [],
   "source": [
    "import pandas as pd\n",
    "import numpy as np"
   ]
  },
  {
   "cell_type": "code",
   "execution_count": 2,
   "metadata": {},
   "outputs": [
    {
     "output_type": "execute_result",
     "data": {
      "text/plain": "       Crash ID State    Month  Year   Dayweek   Time        Crash_Type  \\\n0      20181002   NSW   August  2018    Sunday  14:32    Single vehicle   \n1      20181012   NSW   August  2018  Thursday  22:55    Single vehicle   \n2      20181027   NSW   August  2018    Monday  18:00    Single vehicle   \n3      20181039   NSW   August  2018   Tuesday  10:00  Multiple vehicle   \n4      20181051   NSW   August  2018   Tuesday  22:05  Multiple vehicle   \n...         ...   ...      ...   ...       ...    ...               ...   \n44355  19896065   TAS  January  1989  Saturday  14:30    Single vehicle   \n44356  19897035    NT  January  1989  Saturday  23:30    Single vehicle   \n44357  19897045    NT  January  1989  Saturday  11:20    Single vehicle   \n44358  19898018   ACT  January  1989  Thursday  22:10  Multiple vehicle   \n44359  19898026   ACT  January  1989    Sunday  00:15    Single vehicle   \n\n       Number_of_Fatalities Bus_Involvement Rigid_Truck_Involvement  \\\n0                         1              No                      No   \n1                         1              No                      No   \n2                         1              No                      No   \n3                         1              No                     Yes   \n4                         1              No                     Yes   \n...                     ...             ...                     ...   \n44355                     1              No                      -9   \n44356                     1              No                      -9   \n44357                     1              No                      -9   \n44358                     1              No                      -9   \n44359                     1              No                      -9   \n\n      Articulated_Truck_Involvement   Speed_Limit National_Remoteness_Region  \\\n0                                 No           80   Inner Regional Australia   \n1                                 No           60   Outer Regional Australia   \n2                                 No          100   Outer Regional Australia   \n3                                 No           80   Inner Regional Australia   \n4                                 No           60   Inner Regional Australia   \n...                              ...          ...                        ...   \n44355                             No          100                        NaN   \n44356                            Yes          900                        NaN   \n44357                             No          900                        NaN   \n44358                             No           -9                        NaN   \n44359                             No           -9                        NaN   \n\n                                SA4_Name_2016    LGA_Name_2017  \\\n0                             Mid North Coast        Mid-Coast   \n1                     Coffs Harbour - Grafton  Clarence Valley   \n2                  New England and North West           Gwydir   \n3                            Richmond - Tweed            Tweed   \n4      Sydney - Baulkham Hills and Hawkesbury       Hawkesbury   \n...                                       ...              ...   \n44355                                     NaN              NaN   \n44356                                     NaN              NaN   \n44357                                     NaN              NaN   \n44358                                     NaN              NaN   \n44359                                     NaN              NaN   \n\n      National_Road_Type Christmas_Period Easter_Period  \n0      Sub-Arterial Road               No            No  \n1          Arterial Road               No            No  \n2          Arterial Road               No            No  \n3          Arterial Road               No            No  \n4          Arterial Road               No            No  \n...                  ...              ...           ...  \n44355                NaN              NaN           NaN  \n44356                NaN              NaN           NaN  \n44357                NaN              NaN           NaN  \n44358                NaN              NaN           NaN  \n44359                NaN              NaN           NaN  \n\n[44360 rows x 18 columns]",
      "text/html": "<div>\n<style scoped>\n    .dataframe tbody tr th:only-of-type {\n        vertical-align: middle;\n    }\n\n    .dataframe tbody tr th {\n        vertical-align: top;\n    }\n\n    .dataframe thead th {\n        text-align: right;\n    }\n</style>\n<table border=\"1\" class=\"dataframe\">\n  <thead>\n    <tr style=\"text-align: right;\">\n      <th></th>\n      <th>Crash ID</th>\n      <th>State</th>\n      <th>Month</th>\n      <th>Year</th>\n      <th>Dayweek</th>\n      <th>Time</th>\n      <th>Crash_Type</th>\n      <th>Number_of_Fatalities</th>\n      <th>Bus_Involvement</th>\n      <th>Rigid_Truck_Involvement</th>\n      <th>Articulated_Truck_Involvement</th>\n      <th>Speed_Limit</th>\n      <th>National_Remoteness_Region</th>\n      <th>SA4_Name_2016</th>\n      <th>LGA_Name_2017</th>\n      <th>National_Road_Type</th>\n      <th>Christmas_Period</th>\n      <th>Easter_Period</th>\n    </tr>\n  </thead>\n  <tbody>\n    <tr>\n      <th>0</th>\n      <td>20181002</td>\n      <td>NSW</td>\n      <td>August</td>\n      <td>2018</td>\n      <td>Sunday</td>\n      <td>14:32</td>\n      <td>Single vehicle</td>\n      <td>1</td>\n      <td>No</td>\n      <td>No</td>\n      <td>No</td>\n      <td>80</td>\n      <td>Inner Regional Australia</td>\n      <td>Mid North Coast</td>\n      <td>Mid-Coast</td>\n      <td>Sub-Arterial Road</td>\n      <td>No</td>\n      <td>No</td>\n    </tr>\n    <tr>\n      <th>1</th>\n      <td>20181012</td>\n      <td>NSW</td>\n      <td>August</td>\n      <td>2018</td>\n      <td>Thursday</td>\n      <td>22:55</td>\n      <td>Single vehicle</td>\n      <td>1</td>\n      <td>No</td>\n      <td>No</td>\n      <td>No</td>\n      <td>60</td>\n      <td>Outer Regional Australia</td>\n      <td>Coffs Harbour - Grafton</td>\n      <td>Clarence Valley</td>\n      <td>Arterial Road</td>\n      <td>No</td>\n      <td>No</td>\n    </tr>\n    <tr>\n      <th>2</th>\n      <td>20181027</td>\n      <td>NSW</td>\n      <td>August</td>\n      <td>2018</td>\n      <td>Monday</td>\n      <td>18:00</td>\n      <td>Single vehicle</td>\n      <td>1</td>\n      <td>No</td>\n      <td>No</td>\n      <td>No</td>\n      <td>100</td>\n      <td>Outer Regional Australia</td>\n      <td>New England and North West</td>\n      <td>Gwydir</td>\n      <td>Arterial Road</td>\n      <td>No</td>\n      <td>No</td>\n    </tr>\n    <tr>\n      <th>3</th>\n      <td>20181039</td>\n      <td>NSW</td>\n      <td>August</td>\n      <td>2018</td>\n      <td>Tuesday</td>\n      <td>10:00</td>\n      <td>Multiple vehicle</td>\n      <td>1</td>\n      <td>No</td>\n      <td>Yes</td>\n      <td>No</td>\n      <td>80</td>\n      <td>Inner Regional Australia</td>\n      <td>Richmond - Tweed</td>\n      <td>Tweed</td>\n      <td>Arterial Road</td>\n      <td>No</td>\n      <td>No</td>\n    </tr>\n    <tr>\n      <th>4</th>\n      <td>20181051</td>\n      <td>NSW</td>\n      <td>August</td>\n      <td>2018</td>\n      <td>Tuesday</td>\n      <td>22:05</td>\n      <td>Multiple vehicle</td>\n      <td>1</td>\n      <td>No</td>\n      <td>Yes</td>\n      <td>No</td>\n      <td>60</td>\n      <td>Inner Regional Australia</td>\n      <td>Sydney - Baulkham Hills and Hawkesbury</td>\n      <td>Hawkesbury</td>\n      <td>Arterial Road</td>\n      <td>No</td>\n      <td>No</td>\n    </tr>\n    <tr>\n      <th>...</th>\n      <td>...</td>\n      <td>...</td>\n      <td>...</td>\n      <td>...</td>\n      <td>...</td>\n      <td>...</td>\n      <td>...</td>\n      <td>...</td>\n      <td>...</td>\n      <td>...</td>\n      <td>...</td>\n      <td>...</td>\n      <td>...</td>\n      <td>...</td>\n      <td>...</td>\n      <td>...</td>\n      <td>...</td>\n      <td>...</td>\n    </tr>\n    <tr>\n      <th>44355</th>\n      <td>19896065</td>\n      <td>TAS</td>\n      <td>January</td>\n      <td>1989</td>\n      <td>Saturday</td>\n      <td>14:30</td>\n      <td>Single vehicle</td>\n      <td>1</td>\n      <td>No</td>\n      <td>-9</td>\n      <td>No</td>\n      <td>100</td>\n      <td>NaN</td>\n      <td>NaN</td>\n      <td>NaN</td>\n      <td>NaN</td>\n      <td>NaN</td>\n      <td>NaN</td>\n    </tr>\n    <tr>\n      <th>44356</th>\n      <td>19897035</td>\n      <td>NT</td>\n      <td>January</td>\n      <td>1989</td>\n      <td>Saturday</td>\n      <td>23:30</td>\n      <td>Single vehicle</td>\n      <td>1</td>\n      <td>No</td>\n      <td>-9</td>\n      <td>Yes</td>\n      <td>900</td>\n      <td>NaN</td>\n      <td>NaN</td>\n      <td>NaN</td>\n      <td>NaN</td>\n      <td>NaN</td>\n      <td>NaN</td>\n    </tr>\n    <tr>\n      <th>44357</th>\n      <td>19897045</td>\n      <td>NT</td>\n      <td>January</td>\n      <td>1989</td>\n      <td>Saturday</td>\n      <td>11:20</td>\n      <td>Single vehicle</td>\n      <td>1</td>\n      <td>No</td>\n      <td>-9</td>\n      <td>No</td>\n      <td>900</td>\n      <td>NaN</td>\n      <td>NaN</td>\n      <td>NaN</td>\n      <td>NaN</td>\n      <td>NaN</td>\n      <td>NaN</td>\n    </tr>\n    <tr>\n      <th>44358</th>\n      <td>19898018</td>\n      <td>ACT</td>\n      <td>January</td>\n      <td>1989</td>\n      <td>Thursday</td>\n      <td>22:10</td>\n      <td>Multiple vehicle</td>\n      <td>1</td>\n      <td>No</td>\n      <td>-9</td>\n      <td>No</td>\n      <td>-9</td>\n      <td>NaN</td>\n      <td>NaN</td>\n      <td>NaN</td>\n      <td>NaN</td>\n      <td>NaN</td>\n      <td>NaN</td>\n    </tr>\n    <tr>\n      <th>44359</th>\n      <td>19898026</td>\n      <td>ACT</td>\n      <td>January</td>\n      <td>1989</td>\n      <td>Sunday</td>\n      <td>00:15</td>\n      <td>Single vehicle</td>\n      <td>1</td>\n      <td>No</td>\n      <td>-9</td>\n      <td>No</td>\n      <td>-9</td>\n      <td>NaN</td>\n      <td>NaN</td>\n      <td>NaN</td>\n      <td>NaN</td>\n      <td>NaN</td>\n      <td>NaN</td>\n    </tr>\n  </tbody>\n</table>\n<p>44360 rows × 18 columns</p>\n</div>"
     },
     "metadata": {},
     "execution_count": 2
    }
   ],
   "source": [
    "df_csv = pd.read_csv('BITRE_ARDD_Fatal_Crashes_Aug2018-1.csv')\n",
    "df_csv"
   ]
  },
  {
   "cell_type": "markdown",
   "metadata": {
    "tags": []
   },
   "source": [
    "## Inspection results:\n",
    "    1-There are numbers located in a yes/no column(Rigid_Truck_Invovlment).\n",
    "    2-Speed limit can't be negative number or unrealistic number.\n",
    "    3-Missing data in multiple columns(National_remoteness_region,SA4_Name_2016,LGA_Name_2017,National_Road_Type,Christmas_PeriodChristmas_Period,Easter_PeriodEaster_Period).\n",
    "    4-Missing information relating to day of the month.\n",
    "    5-Data in Time column is sometimes -9\n",
    "    \n"
   ]
  },
  {
   "cell_type": "code",
   "execution_count": 3,
   "metadata": {
    "tags": []
   },
   "outputs": [
    {
     "output_type": "stream",
     "name": "stdout",
     "text": "<class 'pandas.core.frame.DataFrame'>\nRangeIndex: 44360 entries, 0 to 44359\nData columns (total 18 columns):\n #   Column                          Non-Null Count  Dtype \n---  ------                          --------------  ----- \n 0   Crash ID                        44360 non-null  int64 \n 1   State                           44360 non-null  object\n 2   Month                           44360 non-null  object\n 3   Year                            44360 non-null  int64 \n 4   Dayweek                         44360 non-null  object\n 5   Time                            44360 non-null  object\n 6   Crash_Type                      44360 non-null  object\n 7   Number_of_Fatalities            44360 non-null  int64 \n 8   Bus_Involvement                 44360 non-null  object\n 9   Rigid_Truck_Involvement         44360 non-null  object\n 10  Articulated_Truck_Involvement   44360 non-null  object\n 11  Speed_Limit                     44360 non-null  int64 \n 12  National_Remoteness_Region      3123 non-null   object\n 13  SA4_Name_2016                   3123 non-null   object\n 14  LGA_Name_2017                   3128 non-null   object\n 15  National_Road_Type              3123 non-null   object\n 16  Christmas_Period                3974 non-null   object\n 17  Easter_Period                   3974 non-null   object\ndtypes: int64(4), object(14)\nmemory usage: 6.1+ MB\n"
    }
   ],
   "source": [
    "df_csv.info()"
   ]
  },
  {
   "cell_type": "code",
   "execution_count": 4,
   "metadata": {
    "tags": []
   },
   "outputs": [
    {
     "output_type": "execute_result",
     "data": {
      "text/plain": "       Crash ID State    Month  Year   Dayweek   Time        Crash_Type  \\\n44355  19896065   TAS  January  1989  Saturday  14:30    Single vehicle   \n44356  19897035    NT  January  1989  Saturday  23:30    Single vehicle   \n44357  19897045    NT  January  1989  Saturday  11:20    Single vehicle   \n44358  19898018   ACT  January  1989  Thursday  22:10  Multiple vehicle   \n44359  19898026   ACT  January  1989    Sunday  00:15    Single vehicle   \n\n       Number_of_Fatalities Bus_Involvement Rigid_Truck_Involvement  \\\n44355                     1              No                     NaN   \n44356                     1              No                     NaN   \n44357                     1              No                     NaN   \n44358                     1              No                     NaN   \n44359                     1              No                     NaN   \n\n      Articulated_Truck_Involvement   Speed_Limit National_Remoteness_Region  \\\n44355                             No        100.0                        NaN   \n44356                            Yes        900.0                        NaN   \n44357                             No        900.0                        NaN   \n44358                             No          NaN                        NaN   \n44359                             No          NaN                        NaN   \n\n      SA4_Name_2016 LGA_Name_2017 National_Road_Type Christmas_Period  \\\n44355           NaN           NaN                NaN              NaN   \n44356           NaN           NaN                NaN              NaN   \n44357           NaN           NaN                NaN              NaN   \n44358           NaN           NaN                NaN              NaN   \n44359           NaN           NaN                NaN              NaN   \n\n      Easter_Period  \n44355           NaN  \n44356           NaN  \n44357           NaN  \n44358           NaN  \n44359           NaN  ",
      "text/html": "<div>\n<style scoped>\n    .dataframe tbody tr th:only-of-type {\n        vertical-align: middle;\n    }\n\n    .dataframe tbody tr th {\n        vertical-align: top;\n    }\n\n    .dataframe thead th {\n        text-align: right;\n    }\n</style>\n<table border=\"1\" class=\"dataframe\">\n  <thead>\n    <tr style=\"text-align: right;\">\n      <th></th>\n      <th>Crash ID</th>\n      <th>State</th>\n      <th>Month</th>\n      <th>Year</th>\n      <th>Dayweek</th>\n      <th>Time</th>\n      <th>Crash_Type</th>\n      <th>Number_of_Fatalities</th>\n      <th>Bus_Involvement</th>\n      <th>Rigid_Truck_Involvement</th>\n      <th>Articulated_Truck_Involvement</th>\n      <th>Speed_Limit</th>\n      <th>National_Remoteness_Region</th>\n      <th>SA4_Name_2016</th>\n      <th>LGA_Name_2017</th>\n      <th>National_Road_Type</th>\n      <th>Christmas_Period</th>\n      <th>Easter_Period</th>\n    </tr>\n  </thead>\n  <tbody>\n    <tr>\n      <th>44355</th>\n      <td>19896065</td>\n      <td>TAS</td>\n      <td>January</td>\n      <td>1989</td>\n      <td>Saturday</td>\n      <td>14:30</td>\n      <td>Single vehicle</td>\n      <td>1</td>\n      <td>No</td>\n      <td>NaN</td>\n      <td>No</td>\n      <td>100.0</td>\n      <td>NaN</td>\n      <td>NaN</td>\n      <td>NaN</td>\n      <td>NaN</td>\n      <td>NaN</td>\n      <td>NaN</td>\n    </tr>\n    <tr>\n      <th>44356</th>\n      <td>19897035</td>\n      <td>NT</td>\n      <td>January</td>\n      <td>1989</td>\n      <td>Saturday</td>\n      <td>23:30</td>\n      <td>Single vehicle</td>\n      <td>1</td>\n      <td>No</td>\n      <td>NaN</td>\n      <td>Yes</td>\n      <td>900.0</td>\n      <td>NaN</td>\n      <td>NaN</td>\n      <td>NaN</td>\n      <td>NaN</td>\n      <td>NaN</td>\n      <td>NaN</td>\n    </tr>\n    <tr>\n      <th>44357</th>\n      <td>19897045</td>\n      <td>NT</td>\n      <td>January</td>\n      <td>1989</td>\n      <td>Saturday</td>\n      <td>11:20</td>\n      <td>Single vehicle</td>\n      <td>1</td>\n      <td>No</td>\n      <td>NaN</td>\n      <td>No</td>\n      <td>900.0</td>\n      <td>NaN</td>\n      <td>NaN</td>\n      <td>NaN</td>\n      <td>NaN</td>\n      <td>NaN</td>\n      <td>NaN</td>\n    </tr>\n    <tr>\n      <th>44358</th>\n      <td>19898018</td>\n      <td>ACT</td>\n      <td>January</td>\n      <td>1989</td>\n      <td>Thursday</td>\n      <td>22:10</td>\n      <td>Multiple vehicle</td>\n      <td>1</td>\n      <td>No</td>\n      <td>NaN</td>\n      <td>No</td>\n      <td>NaN</td>\n      <td>NaN</td>\n      <td>NaN</td>\n      <td>NaN</td>\n      <td>NaN</td>\n      <td>NaN</td>\n      <td>NaN</td>\n    </tr>\n    <tr>\n      <th>44359</th>\n      <td>19898026</td>\n      <td>ACT</td>\n      <td>January</td>\n      <td>1989</td>\n      <td>Sunday</td>\n      <td>00:15</td>\n      <td>Single vehicle</td>\n      <td>1</td>\n      <td>No</td>\n      <td>NaN</td>\n      <td>No</td>\n      <td>NaN</td>\n      <td>NaN</td>\n      <td>NaN</td>\n      <td>NaN</td>\n      <td>NaN</td>\n      <td>NaN</td>\n      <td>NaN</td>\n    </tr>\n  </tbody>\n</table>\n</div>"
     },
     "metadata": {},
     "execution_count": 4
    }
   ],
   "source": [
    "#1-There are numbers located in a yes/no column(Rigid_Truck_Invovlment).\n",
    "df_csv.loc[:, 'Rigid_Truck_Involvement'].replace(-9,np.nan,inplace=True)\n",
    "#2-Speed limit can't be negative number or unrealistic number.\n",
    "df_csv.loc[:, 'Speed_Limit'].replace(-9,np.nan,inplace=True)\n",
    "#5-Data in Time column is sometimes -9\n",
    "df_csv.loc[:, 'Time'].replace(-9,np.nan,inplace=True)\n",
    "df_csv.tail()"
   ]
  },
  {
   "cell_type": "markdown",
   "metadata": {},
   "source": [
    "## Exercise 2\n",
    "\n",
    "1. Create a function from scratch that takes in an array and calculates the average. You can benchmark your function against `np.mean()` for validation.\n",
    "2. Test is with at least 2 columns with quantitative data."
   ]
  },
  {
   "cell_type": "code",
   "execution_count": 95,
   "metadata": {
    "tags": []
   },
   "outputs": [],
   "source": [
    "def dfToArray(df):\n",
    "    array = []\n",
    "    for i in df:\n",
    "        array.append(i)\n",
    "    return array\n",
    "\n",
    "array_fatal = dfToArray(df_csv.loc[:, 'Number_of_Fatalities'])\n",
    "array_year = dfToArray(df_csv.loc[:, 'Year'])\n",
    "df_fatal = df_csv.loc[:, 'Number_of_Fatalities']\n",
    "df_year = df_csv.loc[:, 'Year']"
   ]
  },
  {
   "cell_type": "code",
   "execution_count": 167,
   "metadata": {},
   "outputs": [],
   "source": [
    "def checkAnswer(num1,num2,description):\n",
    "    if (num1 == num2):\n",
    "        print(f'{description}: True')\n",
    "        return\n",
    "    difference = num1 - num2\n",
    "    print(f'{description}: difference of {difference:f}.')"
   ]
  },
  {
   "cell_type": "code",
   "execution_count": 157,
   "metadata": {
    "tags": []
   },
   "outputs": [
    {
     "output_type": "stream",
     "name": "stdout",
     "text": "Average fatal: True\nAverage year: True\n"
    }
   ],
   "source": [
    "def customAverage(array):\n",
    "    average = sum(array)/len(array)\n",
    "    return average  \n",
    "         \n",
    "checkAnswer(customAverage(array_fatal), np.mean(array_fatal), 'Average fatal')\n",
    "checkAnswer((customAverage(array_year)), (np.mean(array_year)), 'Average year')"
   ]
  },
  {
   "cell_type": "markdown",
   "metadata": {},
   "source": [
    "## Exercise 3\n",
    "\n",
    "1. Create a function from scratch that takes in an array and calculates the median. You can benchmark your function against `np.median()` for validation.\n",
    "2. Test is with at least 2 columns with quantitative data."
   ]
  },
  {
   "cell_type": "code",
   "execution_count": 158,
   "metadata": {
    "tags": []
   },
   "outputs": [
    {
     "output_type": "stream",
     "name": "stdout",
     "text": "Custom Median fatal: True\nCustom Median year: True\n"
    }
   ],
   "source": [
    "def customMedian(array):\n",
    "    sorted_array = sorted(array) #sort array\n",
    "    mid = int(len(sorted_array)/2) #find middle\n",
    "    if (len(sorted_array)%2==0): #is even?\n",
    "        med = (sorted_array[mid] + sorted_array[mid-1]) / 2\n",
    "        return med\n",
    "    else:\n",
    "        med = sorted_array[mid]\n",
    "        return float(med)\n",
    "\n",
    "checkAnswer((customMedian(array_fatal)), (np.median(array_fatal)),'Custom Median fatal')\n",
    "checkAnswer((customMedian(array_year)), (np.median(array_year)),'Custom Median year')"
   ]
  },
  {
   "cell_type": "markdown",
   "metadata": {},
   "source": [
    "## Exercise 4\n",
    "\n",
    "1. Create a function from scratch that takes in an array and calculates the variance. You can benchmark your function against `np.var()` for validation.\n",
    "2. Test is with at least 2 columns with quantitative data."
   ]
  },
  {
   "cell_type": "code",
   "execution_count": 168,
   "metadata": {
    "tags": []
   },
   "outputs": [
    {
     "output_type": "stream",
     "name": "stdout",
     "text": "0.20426979338246973\n0.20426518856295858\n72.47658619888473\n72.47495237140829\nVariance fatal: difference of 0.000005.\nVariance year: difference of 0.001634.\nCorrect to 2 to 5 decimal places\n"
    }
   ],
   "source": [
    "def variance(array):\n",
    "    average = customAverage(array)\n",
    "    length = len(array)-1\n",
    "    vari = sum([(i-average)**2 for i in array]) / length\n",
    "    return vari\n",
    "\n",
    "checkAnswer((variance(array_fatal)), (np.var(array_fatal)),'Variance fatal')\n",
    "checkAnswer((variance(array_year)), (np.var(array_year)),'Variance year')"
   ]
  },
  {
   "cell_type": "markdown",
   "metadata": {},
   "source": [
    "## Exercise 5\n",
    "\n",
    "1. Create a function from scratch that takes in an array and calculates the minimum value. You can benchmark your function against `np.min()` for validation.\n",
    "2. Test is with at least 2 columns with quantitative data."
   ]
  },
  {
   "cell_type": "code",
   "execution_count": 169,
   "metadata": {
    "tags": []
   },
   "outputs": [
    {
     "output_type": "stream",
     "name": "stdout",
     "text": "Minimum fatal: True\nMinimum year: True\n"
    }
   ],
   "source": [
    "def minimum(array):\n",
    "    sorted_array = sorted(array)\n",
    "    return sorted_array[0]\n",
    "\n",
    "checkAnswer((np.min(array_fatal)), (minimum(array_fatal)),'Minimum fatal')\n",
    "checkAnswer((np.min(array_year)), (minimum(array_year)), 'Minimum year')"
   ]
  },
  {
   "cell_type": "markdown",
   "metadata": {},
   "source": [
    "## Exercise 6\n",
    "\n",
    "1. Create a function from scratch that takes in an array and calculates the maximum value. You can benchmark your function against `np.max()` for validation.\n",
    "2. Test is with at least 2 columns with quantitative data."
   ]
  },
  {
   "cell_type": "code",
   "execution_count": 170,
   "metadata": {
    "tags": []
   },
   "outputs": [
    {
     "output_type": "stream",
     "name": "stdout",
     "text": "Maximum fatal: True\nMaximum year: True\n"
    }
   ],
   "source": [
    "def maximum(array):\n",
    "    sorted_array = sorted(array)\n",
    "    return sorted_array[-1]\n",
    "\n",
    "checkAnswer((maximum(array_fatal)), (np.max(array_fatal)), 'Maximum fatal')\n",
    "checkAnswer((maximum(array_year)), (np.max(array_year)), 'Maximum year')"
   ]
  },
  {
   "cell_type": "markdown",
   "metadata": {},
   "source": [
    "## Exercise 7\n",
    "\n",
    "1. Create a function from scratch that takes in an array and a percentage value as a float, and calculates the percentile of the array chosen. You can benchmark your function against `np.percentile()` for validation.\n",
    "2. Test is with at least 2 columns with quantitative data."
   ]
  },
  {
   "cell_type": "code",
   "execution_count": 171,
   "metadata": {
    "tags": []
   },
   "outputs": [
    {
     "output_type": "stream",
     "name": "stdout",
     "text": "Percentile fatal: True\nPercentile year: True\n"
    }
   ],
   "source": [
    "def percentages(array,percent):\n",
    "    sorted_array = sorted(array)\n",
    "    per = int(round(percent/100*len(sorted_array)+.5))\n",
    "    return sorted_array[per-1]\n",
    "\n",
    "checkAnswer((percentages(array_fatal,20)), (np.percentile(array_fatal,20)), 'Percentile fatal')\n",
    "checkAnswer((percentages(array_year,20)), (np.percentile(array_year,20)), 'Percentile year')"
   ]
  },
  {
   "cell_type": "markdown",
   "metadata": {},
   "source": [
    "## Exercise 8\n",
    "\n",
    "1. Create a function from scratch that takes in an array and calculates the range of such array. You can benchmark your function against `np.ptp()` for validation.\n",
    "2. Test is with at least 2 columns with quantitative data."
   ]
  },
  {
   "cell_type": "code",
   "execution_count": 173,
   "metadata": {
    "tags": []
   },
   "outputs": [
    {
     "output_type": "stream",
     "name": "stdout",
     "text": "Range fatal: True\nRange year: True\n"
    }
   ],
   "source": [
    "def customRange(array):\n",
    "    result = (maximum(array) - minimum(array))\n",
    "    return result\n",
    "\n",
    "checkAnswer((customRange(array_fatal)), (np.ptp(array_fatal)), 'Range fatal')\n",
    "checkAnswer((customRange(array_year)), (np.ptp(array_year)), 'Range year')"
   ]
  },
  {
   "cell_type": "markdown",
   "metadata": {},
   "source": [
    "## Exercise 9\n",
    "\n",
    "1. Create a function from scratch that takes in an array and return the min and max value of an array as a tuple. You can benchmark your function against `np.min()` and `np.max()` for validation.\n",
    "2. Test is with at least 2 columns with quantitative data."
   ]
  },
  {
   "cell_type": "code",
   "execution_count": 174,
   "metadata": {
    "tags": []
   },
   "outputs": [
    {
     "output_type": "stream",
     "name": "stdout",
     "text": "Minmax fatal: True\nMinmax year: True\n"
    }
   ],
   "source": [
    "def minMax(array):\n",
    "    minmax = minimum(array), maximum(array)\n",
    "    return minmax\n",
    "\n",
    "checkAnswer((minMax(array_fatal)), (np.min(array_fatal), np.max(array_fatal)), 'Minmax fatal')\n",
    "checkAnswer((minMax(array_year)), (np.min(array_year), np.max(array_year)),'Minmax year')"
   ]
  },
  {
   "cell_type": "markdown",
   "metadata": {},
   "source": [
    "## Exercise 10\n",
    "\n",
    "1. Create a function from scratch that takes two arrays and returns the correlation between both. You can benchmark your function against the examples provided in class.\n",
    "2. Test is with at least 2 pairs of columns with quantitative data."
   ]
  },
  {
   "cell_type": "code",
   "execution_count": 175,
   "metadata": {
    "tags": []
   },
   "outputs": [
    {
     "output_type": "stream",
     "name": "stdout",
     "text": "Correlation fatal, year: difference of 0.000001.\n"
    }
   ],
   "source": [
    "import math\n",
    "from scipy.stats import pearsonr\n",
    "def correlation(array1,array2):\n",
    "    average1 = customAverage(array1)\n",
    "    average2 = customAverage(array2)\n",
    "    variance1 = math.sqrt(variance(array1))\n",
    "    variance2 = math.sqrt(variance(array2))\n",
    "    var = 0\n",
    "    var2 = (len(array1)*variance1*variance2)\n",
    "\n",
    "    if (len(array1) != len(array2)):\n",
    "        return\n",
    "    for i in range(len(array1)):\n",
    "        arr1 = array1[i]\n",
    "        arr2 = array2[i]\n",
    "        var += ((arr1-average1)*(arr2-average2))\n",
    "    var3 = var/var2\n",
    "    return var3\n",
    "checkAnswer((correlation(array_fatal,array_year)), (pearsonr(array_fatal, array_year)[0]),'Correlation fatal, year')"
   ]
  },
  {
   "cell_type": "markdown",
   "metadata": {},
   "source": [
    "## Exercise 11\n",
    "\n",
    "1. Create a function from scratch that takes two arrays and returns the covariance between both. You can benchmark your function against the example provided in class.\n",
    "2. Test is with at least 2 pairs of columns with quantitative data."
   ]
  },
  {
   "cell_type": "code",
   "execution_count": 177,
   "metadata": {
    "tags": []
   },
   "outputs": [
    {
     "output_type": "stream",
     "name": "stdout",
     "text": "Covariance fatal, year: difference of -0.000000.\n"
    }
   ],
   "source": [
    "import math\n",
    "\n",
    "def covariance(array1,array2):\n",
    "    if (len(array1)) == (len(array2)):\n",
    "        range_length = range(len(array1))\n",
    "        mean1 = customAverage(array1)\n",
    "        mean2 = customAverage(array2)\n",
    "        sum1 = 0\n",
    "        for i in range_length:\n",
    "            sum1 += (array1[i]-mean1)*(array2[i]-mean2)\n",
    "        covariance = sum1 / (len(array1))\n",
    "        return covariance\n",
    "\n",
    "checkAnswer(covariance((array_fatal), (array_year)), (np.dot((df_fatal - df_fatal.mean()), (df_year - df_year.mean())) / len(df_year)), 'Covariance fatal, year')"
   ]
  },
  {
   "cell_type": "markdown",
   "metadata": {},
   "source": [
    "## Exercise 12\n",
    "\n",
    "1. Create a function from scratch that takes in an array and calculates the standard deviation. You can benchmark your function against `np.std()` for validation.\n",
    "2. Test is with at least 2 pairs of columns with quantitative data."
   ]
  },
  {
   "cell_type": "code",
   "execution_count": 179,
   "metadata": {
    "tags": []
   },
   "outputs": [
    {
     "output_type": "stream",
     "name": "stdout",
     "text": "Standard deviation fatal: difference of 0.000005.\nStandard deviation year: difference of 0.000096.\n"
    }
   ],
   "source": [
    "def standardDeviation(array):\n",
    "    standard = np.sqrt(variance(array))\n",
    "    return standard\n",
    "\n",
    "checkAnswer((standardDeviation(array_fatal)), (np.std(array_fatal)), 'Standard deviation fatal')\n",
    "checkAnswer((standardDeviation(array_year)), (np.std(array_year)), 'Standard deviation year')"
   ]
  },
  {
   "cell_type": "markdown",
   "metadata": {},
   "source": [
    "## Exercise 13\n",
    "\n",
    "1. Create 2 pivot tables with different layers of complexity. Use both, categorical and quantitative variables.\n",
    "2. Creat 2 visualisations, one with each."
   ]
  },
  {
   "cell_type": "code",
   "execution_count": 183,
   "metadata": {
    "tags": []
   },
   "outputs": [
    {
     "output_type": "stream",
     "name": "stdout",
     "text": "Number_of_Fatalities\nCrash_Type                            \nMultiple vehicle                 17954\nPedestrian                        7699\nSingle vehicle                   18707\n"
    },
    {
     "output_type": "display_data",
     "data": {
      "text/plain": "<Figure size 432x288 with 1 Axes>",
      "image/svg+xml": "<?xml version=\"1.0\" encoding=\"utf-8\" standalone=\"no\"?>\r\n<!DOCTYPE svg PUBLIC \"-//W3C//DTD SVG 1.1//EN\"\r\n  \"http://www.w3.org/Graphics/SVG/1.1/DTD/svg11.dtd\">\r\n<!-- Created with matplotlib (https://matplotlib.org/) -->\r\n<svg height=\"246.958125pt\" version=\"1.1\" viewBox=\"0 0 271.463841 246.958125\" width=\"271.463841pt\" xmlns=\"http://www.w3.org/2000/svg\" xmlns:xlink=\"http://www.w3.org/1999/xlink\">\r\n <defs>\r\n  <style type=\"text/css\">\r\n*{stroke-linecap:butt;stroke-linejoin:round;}\r\n  </style>\r\n </defs>\r\n <g id=\"figure_1\">\r\n  <g id=\"patch_1\">\r\n   <path d=\"M 0 246.958125 \r\nL 271.463841 246.958125 \r\nL 271.463841 0 \r\nL 0 0 \r\nz\r\n\" style=\"fill:none;\"/>\r\n  </g>\r\n  <g id=\"axes_1\">\r\n   <g id=\"patch_2\">\r\n    <path d=\"M 242.519841 131.038125 \r\nC 242.519841 112.452564 236.562628 94.347474 225.526803 79.39309 \r\nC 214.490977 64.438705 198.947133 53.408221 181.187757 47.928474 \r\nC 163.428381 42.448726 144.371699 42.803036 126.828291 48.93915 \r\nC 109.284882 55.075263 94.161806 66.67592 83.689493 82.030194 \r\nL 155.543841 131.038125 \r\nL 242.519841 131.038125 \r\nz\r\n\" style=\"fill:#1f77b4;\"/>\r\n   </g>\r\n   <g id=\"patch_3\">\r\n    <path d=\"M 83.689493 82.030194 \r\nC 74.727569 95.16997 69.539264 110.519668 68.691486 126.402081 \r\nC 67.843707 142.284495 71.3685 158.099285 78.880724 172.118425 \r\nL 155.543841 131.038125 \r\nL 83.689493 82.030194 \r\nz\r\n\" style=\"fill:#ff7f0e;\"/>\r\n   </g>\r\n   <g id=\"patch_4\">\r\n    <path d=\"M 78.880724 172.118425 \r\nC 88.033589 189.199292 102.637599 202.74088 120.359869 210.580018 \r\nC 138.08214 218.419156 157.925929 220.114952 176.721336 215.396517 \r\nC 195.516744 210.678081 212.206671 199.810789 224.125023 184.530611 \r\nC 236.043376 169.250433 242.519838 150.416763 242.519841 131.038141 \r\nL 155.543841 131.038125 \r\nL 78.880724 172.118425 \r\nz\r\n\" style=\"fill:#2ca02c;\"/>\r\n   </g>\r\n   <g id=\"text_1\">\r\n    <!-- Multiple vehicle -->\r\n    <defs>\r\n     <path d=\"M 9.8125 72.90625 \r\nL 24.515625 72.90625 \r\nL 43.109375 23.296875 \r\nL 61.8125 72.90625 \r\nL 76.515625 72.90625 \r\nL 76.515625 0 \r\nL 66.890625 0 \r\nL 66.890625 64.015625 \r\nL 48.09375 14.015625 \r\nL 38.1875 14.015625 \r\nL 19.390625 64.015625 \r\nL 19.390625 0 \r\nL 9.8125 0 \r\nz\r\n\" id=\"DejaVuSans-77\"/>\r\n     <path d=\"M 8.5 21.578125 \r\nL 8.5 54.6875 \r\nL 17.484375 54.6875 \r\nL 17.484375 21.921875 \r\nQ 17.484375 14.15625 20.5 10.265625 \r\nQ 23.53125 6.390625 29.59375 6.390625 \r\nQ 36.859375 6.390625 41.078125 11.03125 \r\nQ 45.3125 15.671875 45.3125 23.6875 \r\nL 45.3125 54.6875 \r\nL 54.296875 54.6875 \r\nL 54.296875 0 \r\nL 45.3125 0 \r\nL 45.3125 8.40625 \r\nQ 42.046875 3.421875 37.71875 1 \r\nQ 33.40625 -1.421875 27.6875 -1.421875 \r\nQ 18.265625 -1.421875 13.375 4.4375 \r\nQ 8.5 10.296875 8.5 21.578125 \r\nz\r\nM 31.109375 56 \r\nz\r\n\" id=\"DejaVuSans-117\"/>\r\n     <path d=\"M 9.421875 75.984375 \r\nL 18.40625 75.984375 \r\nL 18.40625 0 \r\nL 9.421875 0 \r\nz\r\n\" id=\"DejaVuSans-108\"/>\r\n     <path d=\"M 18.3125 70.21875 \r\nL 18.3125 54.6875 \r\nL 36.8125 54.6875 \r\nL 36.8125 47.703125 \r\nL 18.3125 47.703125 \r\nL 18.3125 18.015625 \r\nQ 18.3125 11.328125 20.140625 9.421875 \r\nQ 21.96875 7.515625 27.59375 7.515625 \r\nL 36.8125 7.515625 \r\nL 36.8125 0 \r\nL 27.59375 0 \r\nQ 17.1875 0 13.234375 3.875 \r\nQ 9.28125 7.765625 9.28125 18.015625 \r\nL 9.28125 47.703125 \r\nL 2.6875 47.703125 \r\nL 2.6875 54.6875 \r\nL 9.28125 54.6875 \r\nL 9.28125 70.21875 \r\nz\r\n\" id=\"DejaVuSans-116\"/>\r\n     <path d=\"M 9.421875 54.6875 \r\nL 18.40625 54.6875 \r\nL 18.40625 0 \r\nL 9.421875 0 \r\nz\r\nM 9.421875 75.984375 \r\nL 18.40625 75.984375 \r\nL 18.40625 64.59375 \r\nL 9.421875 64.59375 \r\nz\r\n\" id=\"DejaVuSans-105\"/>\r\n     <path d=\"M 18.109375 8.203125 \r\nL 18.109375 -20.796875 \r\nL 9.078125 -20.796875 \r\nL 9.078125 54.6875 \r\nL 18.109375 54.6875 \r\nL 18.109375 46.390625 \r\nQ 20.953125 51.265625 25.265625 53.625 \r\nQ 29.59375 56 35.59375 56 \r\nQ 45.5625 56 51.78125 48.09375 \r\nQ 58.015625 40.1875 58.015625 27.296875 \r\nQ 58.015625 14.40625 51.78125 6.484375 \r\nQ 45.5625 -1.421875 35.59375 -1.421875 \r\nQ 29.59375 -1.421875 25.265625 0.953125 \r\nQ 20.953125 3.328125 18.109375 8.203125 \r\nz\r\nM 48.6875 27.296875 \r\nQ 48.6875 37.203125 44.609375 42.84375 \r\nQ 40.53125 48.484375 33.40625 48.484375 \r\nQ 26.265625 48.484375 22.1875 42.84375 \r\nQ 18.109375 37.203125 18.109375 27.296875 \r\nQ 18.109375 17.390625 22.1875 11.75 \r\nQ 26.265625 6.109375 33.40625 6.109375 \r\nQ 40.53125 6.109375 44.609375 11.75 \r\nQ 48.6875 17.390625 48.6875 27.296875 \r\nz\r\n\" id=\"DejaVuSans-112\"/>\r\n     <path d=\"M 56.203125 29.59375 \r\nL 56.203125 25.203125 \r\nL 14.890625 25.203125 \r\nQ 15.484375 15.921875 20.484375 11.0625 \r\nQ 25.484375 6.203125 34.421875 6.203125 \r\nQ 39.59375 6.203125 44.453125 7.46875 \r\nQ 49.3125 8.734375 54.109375 11.28125 \r\nL 54.109375 2.78125 \r\nQ 49.265625 0.734375 44.1875 -0.34375 \r\nQ 39.109375 -1.421875 33.890625 -1.421875 \r\nQ 20.796875 -1.421875 13.15625 6.1875 \r\nQ 5.515625 13.8125 5.515625 26.8125 \r\nQ 5.515625 40.234375 12.765625 48.109375 \r\nQ 20.015625 56 32.328125 56 \r\nQ 43.359375 56 49.78125 48.890625 \r\nQ 56.203125 41.796875 56.203125 29.59375 \r\nz\r\nM 47.21875 32.234375 \r\nQ 47.125 39.59375 43.09375 43.984375 \r\nQ 39.0625 48.390625 32.421875 48.390625 \r\nQ 24.90625 48.390625 20.390625 44.140625 \r\nQ 15.875 39.890625 15.1875 32.171875 \r\nz\r\n\" id=\"DejaVuSans-101\"/>\r\n     <path id=\"DejaVuSans-32\"/>\r\n     <path d=\"M 2.984375 54.6875 \r\nL 12.5 54.6875 \r\nL 29.59375 8.796875 \r\nL 46.6875 54.6875 \r\nL 56.203125 54.6875 \r\nL 35.6875 0 \r\nL 23.484375 0 \r\nz\r\n\" id=\"DejaVuSans-118\"/>\r\n     <path d=\"M 54.890625 33.015625 \r\nL 54.890625 0 \r\nL 45.90625 0 \r\nL 45.90625 32.71875 \r\nQ 45.90625 40.484375 42.875 44.328125 \r\nQ 39.84375 48.1875 33.796875 48.1875 \r\nQ 26.515625 48.1875 22.3125 43.546875 \r\nQ 18.109375 38.921875 18.109375 30.90625 \r\nL 18.109375 0 \r\nL 9.078125 0 \r\nL 9.078125 75.984375 \r\nL 18.109375 75.984375 \r\nL 18.109375 46.1875 \r\nQ 21.34375 51.125 25.703125 53.5625 \r\nQ 30.078125 56 35.796875 56 \r\nQ 45.21875 56 50.046875 50.171875 \r\nQ 54.890625 44.34375 54.890625 33.015625 \r\nz\r\n\" id=\"DejaVuSans-104\"/>\r\n     <path d=\"M 48.78125 52.59375 \r\nL 48.78125 44.1875 \r\nQ 44.96875 46.296875 41.140625 47.34375 \r\nQ 37.3125 48.390625 33.40625 48.390625 \r\nQ 24.65625 48.390625 19.8125 42.84375 \r\nQ 14.984375 37.3125 14.984375 27.296875 \r\nQ 14.984375 17.28125 19.8125 11.734375 \r\nQ 24.65625 6.203125 33.40625 6.203125 \r\nQ 37.3125 6.203125 41.140625 7.25 \r\nQ 44.96875 8.296875 48.78125 10.40625 \r\nL 48.78125 2.09375 \r\nQ 45.015625 0.34375 40.984375 -0.53125 \r\nQ 36.96875 -1.421875 32.421875 -1.421875 \r\nQ 20.0625 -1.421875 12.78125 6.34375 \r\nQ 5.515625 14.109375 5.515625 27.296875 \r\nQ 5.515625 40.671875 12.859375 48.328125 \r\nQ 20.21875 56 33.015625 56 \r\nQ 37.15625 56 41.109375 55.140625 \r\nQ 45.0625 54.296875 48.78125 52.59375 \r\nz\r\n\" id=\"DejaVuSans-99\"/>\r\n    </defs>\r\n    <g transform=\"translate(183.752148 42.376883)scale(0.1 -0.1)\">\r\n     <use xlink:href=\"#DejaVuSans-77\"/>\r\n     <use x=\"86.279297\" xlink:href=\"#DejaVuSans-117\"/>\r\n     <use x=\"149.658203\" xlink:href=\"#DejaVuSans-108\"/>\r\n     <use x=\"177.441406\" xlink:href=\"#DejaVuSans-116\"/>\r\n     <use x=\"216.650391\" xlink:href=\"#DejaVuSans-105\"/>\r\n     <use x=\"244.433594\" xlink:href=\"#DejaVuSans-112\"/>\r\n     <use x=\"307.910156\" xlink:href=\"#DejaVuSans-108\"/>\r\n     <use x=\"335.693359\" xlink:href=\"#DejaVuSans-101\"/>\r\n     <use x=\"397.216797\" xlink:href=\"#DejaVuSans-32\"/>\r\n     <use x=\"429.003906\" xlink:href=\"#DejaVuSans-118\"/>\r\n     <use x=\"488.183594\" xlink:href=\"#DejaVuSans-101\"/>\r\n     <use x=\"549.707031\" xlink:href=\"#DejaVuSans-104\"/>\r\n     <use x=\"613.085938\" xlink:href=\"#DejaVuSans-105\"/>\r\n     <use x=\"640.869141\" xlink:href=\"#DejaVuSans-99\"/>\r\n     <use x=\"695.849609\" xlink:href=\"#DejaVuSans-108\"/>\r\n     <use x=\"723.632812\" xlink:href=\"#DejaVuSans-101\"/>\r\n    </g>\r\n   </g>\r\n   <g id=\"text_2\">\r\n    <!-- Pedestrian -->\r\n    <defs>\r\n     <path d=\"M 19.671875 64.796875 \r\nL 19.671875 37.40625 \r\nL 32.078125 37.40625 \r\nQ 38.96875 37.40625 42.71875 40.96875 \r\nQ 46.484375 44.53125 46.484375 51.125 \r\nQ 46.484375 57.671875 42.71875 61.234375 \r\nQ 38.96875 64.796875 32.078125 64.796875 \r\nz\r\nM 9.8125 72.90625 \r\nL 32.078125 72.90625 \r\nQ 44.34375 72.90625 50.609375 67.359375 \r\nQ 56.890625 61.8125 56.890625 51.125 \r\nQ 56.890625 40.328125 50.609375 34.8125 \r\nQ 44.34375 29.296875 32.078125 29.296875 \r\nL 19.671875 29.296875 \r\nL 19.671875 0 \r\nL 9.8125 0 \r\nz\r\n\" id=\"DejaVuSans-80\"/>\r\n     <path d=\"M 45.40625 46.390625 \r\nL 45.40625 75.984375 \r\nL 54.390625 75.984375 \r\nL 54.390625 0 \r\nL 45.40625 0 \r\nL 45.40625 8.203125 \r\nQ 42.578125 3.328125 38.25 0.953125 \r\nQ 33.9375 -1.421875 27.875 -1.421875 \r\nQ 17.96875 -1.421875 11.734375 6.484375 \r\nQ 5.515625 14.40625 5.515625 27.296875 \r\nQ 5.515625 40.1875 11.734375 48.09375 \r\nQ 17.96875 56 27.875 56 \r\nQ 33.9375 56 38.25 53.625 \r\nQ 42.578125 51.265625 45.40625 46.390625 \r\nz\r\nM 14.796875 27.296875 \r\nQ 14.796875 17.390625 18.875 11.75 \r\nQ 22.953125 6.109375 30.078125 6.109375 \r\nQ 37.203125 6.109375 41.296875 11.75 \r\nQ 45.40625 17.390625 45.40625 27.296875 \r\nQ 45.40625 37.203125 41.296875 42.84375 \r\nQ 37.203125 48.484375 30.078125 48.484375 \r\nQ 22.953125 48.484375 18.875 42.84375 \r\nQ 14.796875 37.203125 14.796875 27.296875 \r\nz\r\n\" id=\"DejaVuSans-100\"/>\r\n     <path d=\"M 44.28125 53.078125 \r\nL 44.28125 44.578125 \r\nQ 40.484375 46.53125 36.375 47.5 \r\nQ 32.28125 48.484375 27.875 48.484375 \r\nQ 21.1875 48.484375 17.84375 46.4375 \r\nQ 14.5 44.390625 14.5 40.28125 \r\nQ 14.5 37.15625 16.890625 35.375 \r\nQ 19.28125 33.59375 26.515625 31.984375 \r\nL 29.59375 31.296875 \r\nQ 39.15625 29.25 43.1875 25.515625 \r\nQ 47.21875 21.78125 47.21875 15.09375 \r\nQ 47.21875 7.46875 41.1875 3.015625 \r\nQ 35.15625 -1.421875 24.609375 -1.421875 \r\nQ 20.21875 -1.421875 15.453125 -0.5625 \r\nQ 10.6875 0.296875 5.421875 2 \r\nL 5.421875 11.28125 \r\nQ 10.40625 8.6875 15.234375 7.390625 \r\nQ 20.0625 6.109375 24.8125 6.109375 \r\nQ 31.15625 6.109375 34.5625 8.28125 \r\nQ 37.984375 10.453125 37.984375 14.40625 \r\nQ 37.984375 18.0625 35.515625 20.015625 \r\nQ 33.0625 21.96875 24.703125 23.78125 \r\nL 21.578125 24.515625 \r\nQ 13.234375 26.265625 9.515625 29.90625 \r\nQ 5.8125 33.546875 5.8125 39.890625 \r\nQ 5.8125 47.609375 11.28125 51.796875 \r\nQ 16.75 56 26.8125 56 \r\nQ 31.78125 56 36.171875 55.265625 \r\nQ 40.578125 54.546875 44.28125 53.078125 \r\nz\r\n\" id=\"DejaVuSans-115\"/>\r\n     <path d=\"M 41.109375 46.296875 \r\nQ 39.59375 47.171875 37.8125 47.578125 \r\nQ 36.03125 48 33.890625 48 \r\nQ 26.265625 48 22.1875 43.046875 \r\nQ 18.109375 38.09375 18.109375 28.8125 \r\nL 18.109375 0 \r\nL 9.078125 0 \r\nL 9.078125 54.6875 \r\nL 18.109375 54.6875 \r\nL 18.109375 46.1875 \r\nQ 20.953125 51.171875 25.484375 53.578125 \r\nQ 30.03125 56 36.53125 56 \r\nQ 37.453125 56 38.578125 55.875 \r\nQ 39.703125 55.765625 41.0625 55.515625 \r\nz\r\n\" id=\"DejaVuSans-114\"/>\r\n     <path d=\"M 34.28125 27.484375 \r\nQ 23.390625 27.484375 19.1875 25 \r\nQ 14.984375 22.515625 14.984375 16.5 \r\nQ 14.984375 11.71875 18.140625 8.90625 \r\nQ 21.296875 6.109375 26.703125 6.109375 \r\nQ 34.1875 6.109375 38.703125 11.40625 \r\nQ 43.21875 16.703125 43.21875 25.484375 \r\nL 43.21875 27.484375 \r\nz\r\nM 52.203125 31.203125 \r\nL 52.203125 0 \r\nL 43.21875 0 \r\nL 43.21875 8.296875 \r\nQ 40.140625 3.328125 35.546875 0.953125 \r\nQ 30.953125 -1.421875 24.3125 -1.421875 \r\nQ 15.921875 -1.421875 10.953125 3.296875 \r\nQ 6 8.015625 6 15.921875 \r\nQ 6 25.140625 12.171875 29.828125 \r\nQ 18.359375 34.515625 30.609375 34.515625 \r\nL 43.21875 34.515625 \r\nL 43.21875 35.40625 \r\nQ 43.21875 41.609375 39.140625 45 \r\nQ 35.0625 48.390625 27.6875 48.390625 \r\nQ 23 48.390625 18.546875 47.265625 \r\nQ 14.109375 46.140625 10.015625 43.890625 \r\nL 10.015625 52.203125 \r\nQ 14.9375 54.109375 19.578125 55.046875 \r\nQ 24.21875 56 28.609375 56 \r\nQ 40.484375 56 46.34375 49.84375 \r\nQ 52.203125 43.703125 52.203125 31.203125 \r\nz\r\n\" id=\"DejaVuSans-97\"/>\r\n     <path d=\"M 54.890625 33.015625 \r\nL 54.890625 0 \r\nL 45.90625 0 \r\nL 45.90625 32.71875 \r\nQ 45.90625 40.484375 42.875 44.328125 \r\nQ 39.84375 48.1875 33.796875 48.1875 \r\nQ 26.515625 48.1875 22.3125 43.546875 \r\nQ 18.109375 38.921875 18.109375 30.90625 \r\nL 18.109375 0 \r\nL 9.078125 0 \r\nL 9.078125 54.6875 \r\nL 18.109375 54.6875 \r\nL 18.109375 46.1875 \r\nQ 21.34375 51.125 25.703125 53.5625 \r\nQ 30.078125 56 35.796875 56 \r\nQ 45.21875 56 50.046875 50.171875 \r\nQ 54.890625 44.34375 54.890625 33.015625 \r\nz\r\n\" id=\"DejaVuSans-110\"/>\r\n    </defs>\r\n    <g transform=\"translate(7.2 128.697852)scale(0.1 -0.1)\">\r\n     <use xlink:href=\"#DejaVuSans-80\"/>\r\n     <use x=\"56.677734\" xlink:href=\"#DejaVuSans-101\"/>\r\n     <use x=\"118.201172\" xlink:href=\"#DejaVuSans-100\"/>\r\n     <use x=\"181.677734\" xlink:href=\"#DejaVuSans-101\"/>\r\n     <use x=\"243.201172\" xlink:href=\"#DejaVuSans-115\"/>\r\n     <use x=\"295.300781\" xlink:href=\"#DejaVuSans-116\"/>\r\n     <use x=\"334.509766\" xlink:href=\"#DejaVuSans-114\"/>\r\n     <use x=\"375.623047\" xlink:href=\"#DejaVuSans-105\"/>\r\n     <use x=\"403.40625\" xlink:href=\"#DejaVuSans-97\"/>\r\n     <use x=\"464.685547\" xlink:href=\"#DejaVuSans-110\"/>\r\n    </g>\r\n   </g>\r\n   <g id=\"text_3\">\r\n    <!-- Single vehicle -->\r\n    <defs>\r\n     <path d=\"M 53.515625 70.515625 \r\nL 53.515625 60.890625 \r\nQ 47.90625 63.578125 42.921875 64.890625 \r\nQ 37.9375 66.21875 33.296875 66.21875 \r\nQ 25.25 66.21875 20.875 63.09375 \r\nQ 16.5 59.96875 16.5 54.203125 \r\nQ 16.5 49.359375 19.40625 46.890625 \r\nQ 22.3125 44.4375 30.421875 42.921875 \r\nL 36.375 41.703125 \r\nQ 47.40625 39.59375 52.65625 34.296875 \r\nQ 57.90625 29 57.90625 20.125 \r\nQ 57.90625 9.515625 50.796875 4.046875 \r\nQ 43.703125 -1.421875 29.984375 -1.421875 \r\nQ 24.8125 -1.421875 18.96875 -0.25 \r\nQ 13.140625 0.921875 6.890625 3.21875 \r\nL 6.890625 13.375 \r\nQ 12.890625 10.015625 18.65625 8.296875 \r\nQ 24.421875 6.59375 29.984375 6.59375 \r\nQ 38.421875 6.59375 43.015625 9.90625 \r\nQ 47.609375 13.234375 47.609375 19.390625 \r\nQ 47.609375 24.75 44.3125 27.78125 \r\nQ 41.015625 30.8125 33.5 32.328125 \r\nL 27.484375 33.5 \r\nQ 16.453125 35.6875 11.515625 40.375 \r\nQ 6.59375 45.0625 6.59375 53.421875 \r\nQ 6.59375 63.09375 13.40625 68.65625 \r\nQ 20.21875 74.21875 32.171875 74.21875 \r\nQ 37.3125 74.21875 42.625 73.28125 \r\nQ 47.953125 72.359375 53.515625 70.515625 \r\nz\r\n\" id=\"DejaVuSans-83\"/>\r\n     <path d=\"M 45.40625 27.984375 \r\nQ 45.40625 37.75 41.375 43.109375 \r\nQ 37.359375 48.484375 30.078125 48.484375 \r\nQ 22.859375 48.484375 18.828125 43.109375 \r\nQ 14.796875 37.75 14.796875 27.984375 \r\nQ 14.796875 18.265625 18.828125 12.890625 \r\nQ 22.859375 7.515625 30.078125 7.515625 \r\nQ 37.359375 7.515625 41.375 12.890625 \r\nQ 45.40625 18.265625 45.40625 27.984375 \r\nz\r\nM 54.390625 6.78125 \r\nQ 54.390625 -7.171875 48.1875 -13.984375 \r\nQ 42 -20.796875 29.203125 -20.796875 \r\nQ 24.46875 -20.796875 20.265625 -20.09375 \r\nQ 16.0625 -19.390625 12.109375 -17.921875 \r\nL 12.109375 -9.1875 \r\nQ 16.0625 -11.328125 19.921875 -12.34375 \r\nQ 23.78125 -13.375 27.78125 -13.375 \r\nQ 36.625 -13.375 41.015625 -8.765625 \r\nQ 45.40625 -4.15625 45.40625 5.171875 \r\nL 45.40625 9.625 \r\nQ 42.625 4.78125 38.28125 2.390625 \r\nQ 33.9375 0 27.875 0 \r\nQ 17.828125 0 11.671875 7.65625 \r\nQ 5.515625 15.328125 5.515625 27.984375 \r\nQ 5.515625 40.671875 11.671875 48.328125 \r\nQ 17.828125 56 27.875 56 \r\nQ 33.9375 56 38.28125 53.609375 \r\nQ 42.625 51.21875 45.40625 46.390625 \r\nL 45.40625 54.6875 \r\nL 54.390625 54.6875 \r\nz\r\n\" id=\"DejaVuSans-103\"/>\r\n    </defs>\r\n    <g transform=\"translate(178.839086 226.591731)scale(0.1 -0.1)\">\r\n     <use xlink:href=\"#DejaVuSans-83\"/>\r\n     <use x=\"63.476562\" xlink:href=\"#DejaVuSans-105\"/>\r\n     <use x=\"91.259766\" xlink:href=\"#DejaVuSans-110\"/>\r\n     <use x=\"154.638672\" xlink:href=\"#DejaVuSans-103\"/>\r\n     <use x=\"218.115234\" xlink:href=\"#DejaVuSans-108\"/>\r\n     <use x=\"245.898438\" xlink:href=\"#DejaVuSans-101\"/>\r\n     <use x=\"307.421875\" xlink:href=\"#DejaVuSans-32\"/>\r\n     <use x=\"339.208984\" xlink:href=\"#DejaVuSans-118\"/>\r\n     <use x=\"398.388672\" xlink:href=\"#DejaVuSans-101\"/>\r\n     <use x=\"459.912109\" xlink:href=\"#DejaVuSans-104\"/>\r\n     <use x=\"523.291016\" xlink:href=\"#DejaVuSans-105\"/>\r\n     <use x=\"551.074219\" xlink:href=\"#DejaVuSans-99\"/>\r\n     <use x=\"606.054688\" xlink:href=\"#DejaVuSans-108\"/>\r\n     <use x=\"633.837891\" xlink:href=\"#DejaVuSans-101\"/>\r\n    </g>\r\n   </g>\r\n   <g id=\"text_4\">\r\n    <!-- Fatalities by incident type -->\r\n    <defs>\r\n     <path d=\"M 9.8125 72.90625 \r\nL 51.703125 72.90625 \r\nL 51.703125 64.59375 \r\nL 19.671875 64.59375 \r\nL 19.671875 43.109375 \r\nL 48.578125 43.109375 \r\nL 48.578125 34.8125 \r\nL 19.671875 34.8125 \r\nL 19.671875 0 \r\nL 9.8125 0 \r\nz\r\n\" id=\"DejaVuSans-70\"/>\r\n     <path d=\"M 48.6875 27.296875 \r\nQ 48.6875 37.203125 44.609375 42.84375 \r\nQ 40.53125 48.484375 33.40625 48.484375 \r\nQ 26.265625 48.484375 22.1875 42.84375 \r\nQ 18.109375 37.203125 18.109375 27.296875 \r\nQ 18.109375 17.390625 22.1875 11.75 \r\nQ 26.265625 6.109375 33.40625 6.109375 \r\nQ 40.53125 6.109375 44.609375 11.75 \r\nQ 48.6875 17.390625 48.6875 27.296875 \r\nz\r\nM 18.109375 46.390625 \r\nQ 20.953125 51.265625 25.265625 53.625 \r\nQ 29.59375 56 35.59375 56 \r\nQ 45.5625 56 51.78125 48.09375 \r\nQ 58.015625 40.1875 58.015625 27.296875 \r\nQ 58.015625 14.40625 51.78125 6.484375 \r\nQ 45.5625 -1.421875 35.59375 -1.421875 \r\nQ 29.59375 -1.421875 25.265625 0.953125 \r\nQ 20.953125 3.328125 18.109375 8.203125 \r\nL 18.109375 0 \r\nL 9.078125 0 \r\nL 9.078125 75.984375 \r\nL 18.109375 75.984375 \r\nz\r\n\" id=\"DejaVuSans-98\"/>\r\n     <path d=\"M 32.171875 -5.078125 \r\nQ 28.375 -14.84375 24.75 -17.8125 \r\nQ 21.140625 -20.796875 15.09375 -20.796875 \r\nL 7.90625 -20.796875 \r\nL 7.90625 -13.28125 \r\nL 13.1875 -13.28125 \r\nQ 16.890625 -13.28125 18.9375 -11.515625 \r\nQ 21 -9.765625 23.484375 -3.21875 \r\nL 25.09375 0.875 \r\nL 2.984375 54.6875 \r\nL 12.5 54.6875 \r\nL 29.59375 11.921875 \r\nL 46.6875 54.6875 \r\nL 56.203125 54.6875 \r\nz\r\n\" id=\"DejaVuSans-121\"/>\r\n    </defs>\r\n    <g transform=\"translate(78.187904 16.318125)scale(0.12 -0.12)\">\r\n     <use xlink:href=\"#DejaVuSans-70\"/>\r\n     <use x=\"48.394531\" xlink:href=\"#DejaVuSans-97\"/>\r\n     <use x=\"109.673828\" xlink:href=\"#DejaVuSans-116\"/>\r\n     <use x=\"148.882812\" xlink:href=\"#DejaVuSans-97\"/>\r\n     <use x=\"210.162109\" xlink:href=\"#DejaVuSans-108\"/>\r\n     <use x=\"237.945312\" xlink:href=\"#DejaVuSans-105\"/>\r\n     <use x=\"265.728516\" xlink:href=\"#DejaVuSans-116\"/>\r\n     <use x=\"304.9375\" xlink:href=\"#DejaVuSans-105\"/>\r\n     <use x=\"332.720703\" xlink:href=\"#DejaVuSans-101\"/>\r\n     <use x=\"394.244141\" xlink:href=\"#DejaVuSans-115\"/>\r\n     <use x=\"446.34375\" xlink:href=\"#DejaVuSans-32\"/>\r\n     <use x=\"478.130859\" xlink:href=\"#DejaVuSans-98\"/>\r\n     <use x=\"541.607422\" xlink:href=\"#DejaVuSans-121\"/>\r\n     <use x=\"600.787109\" xlink:href=\"#DejaVuSans-32\"/>\r\n     <use x=\"632.574219\" xlink:href=\"#DejaVuSans-105\"/>\r\n     <use x=\"660.357422\" xlink:href=\"#DejaVuSans-110\"/>\r\n     <use x=\"723.736328\" xlink:href=\"#DejaVuSans-99\"/>\r\n     <use x=\"778.716797\" xlink:href=\"#DejaVuSans-105\"/>\r\n     <use x=\"806.5\" xlink:href=\"#DejaVuSans-100\"/>\r\n     <use x=\"869.976562\" xlink:href=\"#DejaVuSans-101\"/>\r\n     <use x=\"931.5\" xlink:href=\"#DejaVuSans-110\"/>\r\n     <use x=\"994.878906\" xlink:href=\"#DejaVuSans-116\"/>\r\n     <use x=\"1034.087891\" xlink:href=\"#DejaVuSans-32\"/>\r\n     <use x=\"1065.875\" xlink:href=\"#DejaVuSans-116\"/>\r\n     <use x=\"1105.083984\" xlink:href=\"#DejaVuSans-121\"/>\r\n     <use x=\"1164.263672\" xlink:href=\"#DejaVuSans-112\"/>\r\n     <use x=\"1227.740234\" xlink:href=\"#DejaVuSans-101\"/>\r\n    </g>\r\n   </g>\r\n  </g>\r\n </g>\r\n</svg>\r\n",
      "image/png": "[encoded data removed]"
     },
     "metadata": {}
    }
   ],
   "source": [
    "import matplotlib.pyplot as plt\n",
    "\n",
    "fatality_info = df_csv.pivot_table(\n",
    "    values = ['Number_of_Fatalities'],\n",
    "    index = ['Crash_Type'],\n",
    "    aggfunc = 'count'\n",
    ")\n",
    "print(fatality_info)\n",
    "fatality_info.plot(kind='pie',y = 'Number_of_Fatalities', title='Fatalities by incident type', legend = False)\n",
    "plt.axis('off')\n",
    "plt.show()"
   ]
  },
  {
   "cell_type": "code",
   "execution_count": 184,
   "metadata": {
    "tags": []
   },
   "outputs": [
    {
     "output_type": "stream",
     "name": "stdout",
     "text": "Number_of_Fatalities\nYear                      \n1989                  2407\n1990                  2050\n1991                  1874\n1992                  1736\n1993                  1737\n1994                  1702\n1995                  1822\n1996                  1768\n1997                  1601\n1998                  1573\n1999                  1553\n2000                  1628\n2001                  1584\n2002                  1525\n2003                  1445\n2004                  1444\n2005                  1472\n2006                  1452\n2007                  1453\n2008                  1315\n2009                  1347\n2010                  1233\n2011                  1151\n2012                  1190\n2013                  1101\n2014                  1051\n2015                  1101\n2016                  1199\n2017                  1128\n2018                   718\n"
    },
    {
     "output_type": "display_data",
     "data": {
      "text/plain": "<Figure size 432x288 with 1 Axes>",
      "image/svg+xml": "<?xml version=\"1.0\" encoding=\"utf-8\" standalone=\"no\"?>\r\n<!DOCTYPE svg PUBLIC \"-//W3C//DTD SVG 1.1//EN\"\r\n  \"http://www.w3.org/Graphics/SVG/1.1/DTD/svg11.dtd\">\r\n<!-- Created with matplotlib (https://matplotlib.org/) -->\r\n<svg height=\"292.475585pt\" version=\"1.1\" viewBox=\"0 0 381.65 292.475585\" width=\"381.65pt\" xmlns=\"http://www.w3.org/2000/svg\" xmlns:xlink=\"http://www.w3.org/1999/xlink\">\r\n <defs>\r\n  <style type=\"text/css\">\r\n*{stroke-linecap:butt;stroke-linejoin:round;}\r\n  </style>\r\n </defs>\r\n <g id=\"figure_1\">\r\n  <g id=\"patch_1\">\r\n   <path d=\"M -0 292.475585 \r\nL 381.65 292.475585 \r\nL 381.65 0 \r\nL -0 0 \r\nz\r\n\" style=\"fill:none;\"/>\r\n  </g>\r\n  <g id=\"axes_1\">\r\n   <g id=\"patch_2\">\r\n    <path d=\"M 39.65 239.758125 \r\nL 374.45 239.758125 \r\nL 374.45 22.318125 \r\nL 39.65 22.318125 \r\nz\r\n\" style=\"fill:#ffffff;\"/>\r\n   </g>\r\n   <g id=\"matplotlib.axis_1\">\r\n    <g id=\"xtick_1\">\r\n     <g id=\"line2d_1\">\r\n      <defs>\r\n       <path d=\"M 0 0 \r\nL 0 3.5 \r\n\" id=\"m51ecff6094\" style=\"stroke:#000000;stroke-width:0.8;\"/>\r\n      </defs>\r\n      <g>\r\n       <use style=\"stroke:#000000;stroke-width:0.8;\" x=\"65.36348\" xlink:href=\"#m51ecff6094\" y=\"239.758125\"/>\r\n      </g>\r\n     </g>\r\n     <g id=\"text_1\">\r\n      <!-- 1990 -->\r\n      <defs>\r\n       <path d=\"M 12.40625 8.296875 \r\nL 28.515625 8.296875 \r\nL 28.515625 63.921875 \r\nL 10.984375 60.40625 \r\nL 10.984375 69.390625 \r\nL 28.421875 72.90625 \r\nL 38.28125 72.90625 \r\nL 38.28125 8.296875 \r\nL 54.390625 8.296875 \r\nL 54.390625 0 \r\nL 12.40625 0 \r\nz\r\n\" id=\"DejaVuSans-49\"/>\r\n       <path d=\"M 10.984375 1.515625 \r\nL 10.984375 10.5 \r\nQ 14.703125 8.734375 18.5 7.8125 \r\nQ 22.3125 6.890625 25.984375 6.890625 \r\nQ 35.75 6.890625 40.890625 13.453125 \r\nQ 46.046875 20.015625 46.78125 33.40625 \r\nQ 43.953125 29.203125 39.59375 26.953125 \r\nQ 35.25 24.703125 29.984375 24.703125 \r\nQ 19.046875 24.703125 12.671875 31.3125 \r\nQ 6.296875 37.9375 6.296875 49.421875 \r\nQ 6.296875 60.640625 12.9375 67.421875 \r\nQ 19.578125 74.21875 30.609375 74.21875 \r\nQ 43.265625 74.21875 49.921875 64.515625 \r\nQ 56.59375 54.828125 56.59375 36.375 \r\nQ 56.59375 19.140625 48.40625 8.859375 \r\nQ 40.234375 -1.421875 26.421875 -1.421875 \r\nQ 22.703125 -1.421875 18.890625 -0.6875 \r\nQ 15.09375 0.046875 10.984375 1.515625 \r\nz\r\nM 30.609375 32.421875 \r\nQ 37.25 32.421875 41.125 36.953125 \r\nQ 45.015625 41.5 45.015625 49.421875 \r\nQ 45.015625 57.28125 41.125 61.84375 \r\nQ 37.25 66.40625 30.609375 66.40625 \r\nQ 23.96875 66.40625 20.09375 61.84375 \r\nQ 16.21875 57.28125 16.21875 49.421875 \r\nQ 16.21875 41.5 20.09375 36.953125 \r\nQ 23.96875 32.421875 30.609375 32.421875 \r\nz\r\n\" id=\"DejaVuSans-57\"/>\r\n       <path d=\"M 31.78125 66.40625 \r\nQ 24.171875 66.40625 20.328125 58.90625 \r\nQ 16.5 51.421875 16.5 36.375 \r\nQ 16.5 21.390625 20.328125 13.890625 \r\nQ 24.171875 6.390625 31.78125 6.390625 \r\nQ 39.453125 6.390625 43.28125 13.890625 \r\nQ 47.125 21.390625 47.125 36.375 \r\nQ 47.125 51.421875 43.28125 58.90625 \r\nQ 39.453125 66.40625 31.78125 66.40625 \r\nz\r\nM 31.78125 74.21875 \r\nQ 44.046875 74.21875 50.515625 64.515625 \r\nQ 56.984375 54.828125 56.984375 36.375 \r\nQ 56.984375 17.96875 50.515625 8.265625 \r\nQ 44.046875 -1.421875 31.78125 -1.421875 \r\nQ 19.53125 -1.421875 13.0625 8.265625 \r\nQ 6.59375 17.96875 6.59375 36.375 \r\nQ 6.59375 54.828125 13.0625 64.515625 \r\nQ 19.53125 74.21875 31.78125 74.21875 \r\nz\r\n\" id=\"DejaVuSans-48\"/>\r\n      </defs>\r\n      <g transform=\"translate(58.316719 270.126899)rotate(-45)scale(0.1 -0.1)\">\r\n       <use xlink:href=\"#DejaVuSans-49\"/>\r\n       <use x=\"63.623047\" xlink:href=\"#DejaVuSans-57\"/>\r\n       <use x=\"127.246094\" xlink:href=\"#DejaVuSans-57\"/>\r\n       <use x=\"190.869141\" xlink:href=\"#DejaVuSans-48\"/>\r\n      </g>\r\n     </g>\r\n    </g>\r\n    <g id=\"xtick_2\">\r\n     <g id=\"line2d_2\">\r\n      <g>\r\n       <use style=\"stroke:#000000;stroke-width:0.8;\" x=\"117.839969\" xlink:href=\"#m51ecff6094\" y=\"239.758125\"/>\r\n      </g>\r\n     </g>\r\n     <g id=\"text_2\">\r\n      <!-- 1995 -->\r\n      <defs>\r\n       <path d=\"M 10.796875 72.90625 \r\nL 49.515625 72.90625 \r\nL 49.515625 64.59375 \r\nL 19.828125 64.59375 \r\nL 19.828125 46.734375 \r\nQ 21.96875 47.46875 24.109375 47.828125 \r\nQ 26.265625 48.1875 28.421875 48.1875 \r\nQ 40.625 48.1875 47.75 41.5 \r\nQ 54.890625 34.8125 54.890625 23.390625 \r\nQ 54.890625 11.625 47.5625 5.09375 \r\nQ 40.234375 -1.421875 26.90625 -1.421875 \r\nQ 22.3125 -1.421875 17.546875 -0.640625 \r\nQ 12.796875 0.140625 7.71875 1.703125 \r\nL 7.71875 11.625 \r\nQ 12.109375 9.234375 16.796875 8.0625 \r\nQ 21.484375 6.890625 26.703125 6.890625 \r\nQ 35.15625 6.890625 40.078125 11.328125 \r\nQ 45.015625 15.765625 45.015625 23.390625 \r\nQ 45.015625 31 40.078125 35.4375 \r\nQ 35.15625 39.890625 26.703125 39.890625 \r\nQ 22.75 39.890625 18.8125 39.015625 \r\nQ 14.890625 38.140625 10.796875 36.28125 \r\nz\r\n\" id=\"DejaVuSans-53\"/>\r\n      </defs>\r\n      <g transform=\"translate(110.793208 270.126899)rotate(-45)scale(0.1 -0.1)\">\r\n       <use xlink:href=\"#DejaVuSans-49\"/>\r\n       <use x=\"63.623047\" xlink:href=\"#DejaVuSans-57\"/>\r\n       <use x=\"127.246094\" xlink:href=\"#DejaVuSans-57\"/>\r\n       <use x=\"190.869141\" xlink:href=\"#DejaVuSans-53\"/>\r\n      </g>\r\n     </g>\r\n    </g>\r\n    <g id=\"xtick_3\">\r\n     <g id=\"line2d_3\">\r\n      <g>\r\n       <use style=\"stroke:#000000;stroke-width:0.8;\" x=\"170.316458\" xlink:href=\"#m51ecff6094\" y=\"239.758125\"/>\r\n      </g>\r\n     </g>\r\n     <g id=\"text_3\">\r\n      <!-- 2000 -->\r\n      <defs>\r\n       <path d=\"M 19.1875 8.296875 \r\nL 53.609375 8.296875 \r\nL 53.609375 0 \r\nL 7.328125 0 \r\nL 7.328125 8.296875 \r\nQ 12.9375 14.109375 22.625 23.890625 \r\nQ 32.328125 33.6875 34.8125 36.53125 \r\nQ 39.546875 41.84375 41.421875 45.53125 \r\nQ 43.3125 49.21875 43.3125 52.78125 \r\nQ 43.3125 58.59375 39.234375 62.25 \r\nQ 35.15625 65.921875 28.609375 65.921875 \r\nQ 23.96875 65.921875 18.8125 64.3125 \r\nQ 13.671875 62.703125 7.8125 59.421875 \r\nL 7.8125 69.390625 \r\nQ 13.765625 71.78125 18.9375 73 \r\nQ 24.125 74.21875 28.421875 74.21875 \r\nQ 39.75 74.21875 46.484375 68.546875 \r\nQ 53.21875 62.890625 53.21875 53.421875 \r\nQ 53.21875 48.921875 51.53125 44.890625 \r\nQ 49.859375 40.875 45.40625 35.40625 \r\nQ 44.1875 33.984375 37.640625 27.21875 \r\nQ 31.109375 20.453125 19.1875 8.296875 \r\nz\r\n\" id=\"DejaVuSans-50\"/>\r\n      </defs>\r\n      <g transform=\"translate(163.269697 270.126899)rotate(-45)scale(0.1 -0.1)\">\r\n       <use xlink:href=\"#DejaVuSans-50\"/>\r\n       <use x=\"63.623047\" xlink:href=\"#DejaVuSans-48\"/>\r\n       <use x=\"127.246094\" xlink:href=\"#DejaVuSans-48\"/>\r\n       <use x=\"190.869141\" xlink:href=\"#DejaVuSans-48\"/>\r\n      </g>\r\n     </g>\r\n    </g>\r\n    <g id=\"xtick_4\">\r\n     <g id=\"line2d_4\">\r\n      <g>\r\n       <use style=\"stroke:#000000;stroke-width:0.8;\" x=\"222.792947\" xlink:href=\"#m51ecff6094\" y=\"239.758125\"/>\r\n      </g>\r\n     </g>\r\n     <g id=\"text_4\">\r\n      <!-- 2005 -->\r\n      <g transform=\"translate(215.746186 270.126899)rotate(-45)scale(0.1 -0.1)\">\r\n       <use xlink:href=\"#DejaVuSans-50\"/>\r\n       <use x=\"63.623047\" xlink:href=\"#DejaVuSans-48\"/>\r\n       <use x=\"127.246094\" xlink:href=\"#DejaVuSans-48\"/>\r\n       <use x=\"190.869141\" xlink:href=\"#DejaVuSans-53\"/>\r\n      </g>\r\n     </g>\r\n    </g>\r\n    <g id=\"xtick_5\">\r\n     <g id=\"line2d_5\">\r\n      <g>\r\n       <use style=\"stroke:#000000;stroke-width:0.8;\" x=\"275.269436\" xlink:href=\"#m51ecff6094\" y=\"239.758125\"/>\r\n      </g>\r\n     </g>\r\n     <g id=\"text_5\">\r\n      <!-- 2010 -->\r\n      <g transform=\"translate(268.222675 270.126899)rotate(-45)scale(0.1 -0.1)\">\r\n       <use xlink:href=\"#DejaVuSans-50\"/>\r\n       <use x=\"63.623047\" xlink:href=\"#DejaVuSans-48\"/>\r\n       <use x=\"127.246094\" xlink:href=\"#DejaVuSans-49\"/>\r\n       <use x=\"190.869141\" xlink:href=\"#DejaVuSans-48\"/>\r\n      </g>\r\n     </g>\r\n    </g>\r\n    <g id=\"xtick_6\">\r\n     <g id=\"line2d_6\">\r\n      <g>\r\n       <use style=\"stroke:#000000;stroke-width:0.8;\" x=\"327.745925\" xlink:href=\"#m51ecff6094\" y=\"239.758125\"/>\r\n      </g>\r\n     </g>\r\n     <g id=\"text_6\">\r\n      <!-- 2015 -->\r\n      <g transform=\"translate(320.699164 270.126899)rotate(-45)scale(0.1 -0.1)\">\r\n       <use xlink:href=\"#DejaVuSans-50\"/>\r\n       <use x=\"63.623047\" xlink:href=\"#DejaVuSans-48\"/>\r\n       <use x=\"127.246094\" xlink:href=\"#DejaVuSans-49\"/>\r\n       <use x=\"190.869141\" xlink:href=\"#DejaVuSans-53\"/>\r\n      </g>\r\n     </g>\r\n    </g>\r\n    <g id=\"text_7\">\r\n     <!-- Year -->\r\n     <defs>\r\n      <path d=\"M -0.203125 72.90625 \r\nL 10.40625 72.90625 \r\nL 30.609375 42.921875 \r\nL 50.6875 72.90625 \r\nL 61.28125 72.90625 \r\nL 35.5 34.71875 \r\nL 35.5 0 \r\nL 25.59375 0 \r\nL 25.59375 34.71875 \r\nz\r\n\" id=\"DejaVuSans-89\"/>\r\n      <path d=\"M 56.203125 29.59375 \r\nL 56.203125 25.203125 \r\nL 14.890625 25.203125 \r\nQ 15.484375 15.921875 20.484375 11.0625 \r\nQ 25.484375 6.203125 34.421875 6.203125 \r\nQ 39.59375 6.203125 44.453125 7.46875 \r\nQ 49.3125 8.734375 54.109375 11.28125 \r\nL 54.109375 2.78125 \r\nQ 49.265625 0.734375 44.1875 -0.34375 \r\nQ 39.109375 -1.421875 33.890625 -1.421875 \r\nQ 20.796875 -1.421875 13.15625 6.1875 \r\nQ 5.515625 13.8125 5.515625 26.8125 \r\nQ 5.515625 40.234375 12.765625 48.109375 \r\nQ 20.015625 56 32.328125 56 \r\nQ 43.359375 56 49.78125 48.890625 \r\nQ 56.203125 41.796875 56.203125 29.59375 \r\nz\r\nM 47.21875 32.234375 \r\nQ 47.125 39.59375 43.09375 43.984375 \r\nQ 39.0625 48.390625 32.421875 48.390625 \r\nQ 24.90625 48.390625 20.390625 44.140625 \r\nQ 15.875 39.890625 15.1875 32.171875 \r\nz\r\n\" id=\"DejaVuSans-101\"/>\r\n      <path d=\"M 34.28125 27.484375 \r\nQ 23.390625 27.484375 19.1875 25 \r\nQ 14.984375 22.515625 14.984375 16.5 \r\nQ 14.984375 11.71875 18.140625 8.90625 \r\nQ 21.296875 6.109375 26.703125 6.109375 \r\nQ 34.1875 6.109375 38.703125 11.40625 \r\nQ 43.21875 16.703125 43.21875 25.484375 \r\nL 43.21875 27.484375 \r\nz\r\nM 52.203125 31.203125 \r\nL 52.203125 0 \r\nL 43.21875 0 \r\nL 43.21875 8.296875 \r\nQ 40.140625 3.328125 35.546875 0.953125 \r\nQ 30.953125 -1.421875 24.3125 -1.421875 \r\nQ 15.921875 -1.421875 10.953125 3.296875 \r\nQ 6 8.015625 6 15.921875 \r\nQ 6 25.140625 12.171875 29.828125 \r\nQ 18.359375 34.515625 30.609375 34.515625 \r\nL 43.21875 34.515625 \r\nL 43.21875 35.40625 \r\nQ 43.21875 41.609375 39.140625 45 \r\nQ 35.0625 48.390625 27.6875 48.390625 \r\nQ 23 48.390625 18.546875 47.265625 \r\nQ 14.109375 46.140625 10.015625 43.890625 \r\nL 10.015625 52.203125 \r\nQ 14.9375 54.109375 19.578125 55.046875 \r\nQ 24.21875 56 28.609375 56 \r\nQ 40.484375 56 46.34375 49.84375 \r\nQ 52.203125 43.703125 52.203125 31.203125 \r\nz\r\n\" id=\"DejaVuSans-97\"/>\r\n      <path d=\"M 41.109375 46.296875 \r\nQ 39.59375 47.171875 37.8125 47.578125 \r\nQ 36.03125 48 33.890625 48 \r\nQ 26.265625 48 22.1875 43.046875 \r\nQ 18.109375 38.09375 18.109375 28.8125 \r\nL 18.109375 0 \r\nL 9.078125 0 \r\nL 9.078125 54.6875 \r\nL 18.109375 54.6875 \r\nL 18.109375 46.1875 \r\nQ 20.953125 51.171875 25.484375 53.578125 \r\nQ 30.03125 56 36.53125 56 \r\nQ 37.453125 56 38.578125 55.875 \r\nQ 39.703125 55.765625 41.0625 55.515625 \r\nz\r\n\" id=\"DejaVuSans-114\"/>\r\n     </defs>\r\n     <g transform=\"translate(196.4625 283.195898)scale(0.1 -0.1)\">\r\n      <use xlink:href=\"#DejaVuSans-89\"/>\r\n      <use x=\"47.833984\" xlink:href=\"#DejaVuSans-101\"/>\r\n      <use x=\"109.357422\" xlink:href=\"#DejaVuSans-97\"/>\r\n      <use x=\"170.636719\" xlink:href=\"#DejaVuSans-114\"/>\r\n     </g>\r\n    </g>\r\n   </g>\r\n   <g id=\"matplotlib.axis_2\">\r\n    <g id=\"ytick_1\">\r\n     <g id=\"line2d_7\">\r\n      <defs>\r\n       <path d=\"M 0 0 \r\nL -3.5 0 \r\n\" id=\"m1eaf38946e\" style=\"stroke:#000000;stroke-width:0.8;\"/>\r\n      </defs>\r\n      <g>\r\n       <use style=\"stroke:#000000;stroke-width:0.8;\" x=\"39.65\" xlink:href=\"#m1eaf38946e\" y=\"226.129357\"/>\r\n      </g>\r\n     </g>\r\n     <g id=\"text_8\">\r\n      <!-- 750 -->\r\n      <defs>\r\n       <path d=\"M 8.203125 72.90625 \r\nL 55.078125 72.90625 \r\nL 55.078125 68.703125 \r\nL 28.609375 0 \r\nL 18.3125 0 \r\nL 43.21875 64.59375 \r\nL 8.203125 64.59375 \r\nz\r\n\" id=\"DejaVuSans-55\"/>\r\n      </defs>\r\n      <g transform=\"translate(13.5625 229.928576)scale(0.1 -0.1)\">\r\n       <use xlink:href=\"#DejaVuSans-55\"/>\r\n       <use x=\"63.623047\" xlink:href=\"#DejaVuSans-53\"/>\r\n       <use x=\"127.246094\" xlink:href=\"#DejaVuSans-48\"/>\r\n      </g>\r\n     </g>\r\n    </g>\r\n    <g id=\"ytick_2\">\r\n     <g id=\"line2d_8\">\r\n      <g>\r\n       <use style=\"stroke:#000000;stroke-width:0.8;\" x=\"39.65\" xlink:href=\"#m1eaf38946e\" y=\"196.870516\"/>\r\n      </g>\r\n     </g>\r\n     <g id=\"text_9\">\r\n      <!-- 1000 -->\r\n      <g transform=\"translate(7.2 200.669735)scale(0.1 -0.1)\">\r\n       <use xlink:href=\"#DejaVuSans-49\"/>\r\n       <use x=\"63.623047\" xlink:href=\"#DejaVuSans-48\"/>\r\n       <use x=\"127.246094\" xlink:href=\"#DejaVuSans-48\"/>\r\n       <use x=\"190.869141\" xlink:href=\"#DejaVuSans-48\"/>\r\n      </g>\r\n     </g>\r\n    </g>\r\n    <g id=\"ytick_3\">\r\n     <g id=\"line2d_9\">\r\n      <g>\r\n       <use style=\"stroke:#000000;stroke-width:0.8;\" x=\"39.65\" xlink:href=\"#m1eaf38946e\" y=\"167.611676\"/>\r\n      </g>\r\n     </g>\r\n     <g id=\"text_10\">\r\n      <!-- 1250 -->\r\n      <g transform=\"translate(7.2 171.410895)scale(0.1 -0.1)\">\r\n       <use xlink:href=\"#DejaVuSans-49\"/>\r\n       <use x=\"63.623047\" xlink:href=\"#DejaVuSans-50\"/>\r\n       <use x=\"127.246094\" xlink:href=\"#DejaVuSans-53\"/>\r\n       <use x=\"190.869141\" xlink:href=\"#DejaVuSans-48\"/>\r\n      </g>\r\n     </g>\r\n    </g>\r\n    <g id=\"ytick_4\">\r\n     <g id=\"line2d_10\">\r\n      <g>\r\n       <use style=\"stroke:#000000;stroke-width:0.8;\" x=\"39.65\" xlink:href=\"#m1eaf38946e\" y=\"138.352835\"/>\r\n      </g>\r\n     </g>\r\n     <g id=\"text_11\">\r\n      <!-- 1500 -->\r\n      <g transform=\"translate(7.2 142.152054)scale(0.1 -0.1)\">\r\n       <use xlink:href=\"#DejaVuSans-49\"/>\r\n       <use x=\"63.623047\" xlink:href=\"#DejaVuSans-53\"/>\r\n       <use x=\"127.246094\" xlink:href=\"#DejaVuSans-48\"/>\r\n       <use x=\"190.869141\" xlink:href=\"#DejaVuSans-48\"/>\r\n      </g>\r\n     </g>\r\n    </g>\r\n    <g id=\"ytick_5\">\r\n     <g id=\"line2d_11\">\r\n      <g>\r\n       <use style=\"stroke:#000000;stroke-width:0.8;\" x=\"39.65\" xlink:href=\"#m1eaf38946e\" y=\"109.093995\"/>\r\n      </g>\r\n     </g>\r\n     <g id=\"text_12\">\r\n      <!-- 1750 -->\r\n      <g transform=\"translate(7.2 112.893213)scale(0.1 -0.1)\">\r\n       <use xlink:href=\"#DejaVuSans-49\"/>\r\n       <use x=\"63.623047\" xlink:href=\"#DejaVuSans-55\"/>\r\n       <use x=\"127.246094\" xlink:href=\"#DejaVuSans-53\"/>\r\n       <use x=\"190.869141\" xlink:href=\"#DejaVuSans-48\"/>\r\n      </g>\r\n     </g>\r\n    </g>\r\n    <g id=\"ytick_6\">\r\n     <g id=\"line2d_12\">\r\n      <g>\r\n       <use style=\"stroke:#000000;stroke-width:0.8;\" x=\"39.65\" xlink:href=\"#m1eaf38946e\" y=\"79.835154\"/>\r\n      </g>\r\n     </g>\r\n     <g id=\"text_13\">\r\n      <!-- 2000 -->\r\n      <g transform=\"translate(7.2 83.634373)scale(0.1 -0.1)\">\r\n       <use xlink:href=\"#DejaVuSans-50\"/>\r\n       <use x=\"63.623047\" xlink:href=\"#DejaVuSans-48\"/>\r\n       <use x=\"127.246094\" xlink:href=\"#DejaVuSans-48\"/>\r\n       <use x=\"190.869141\" xlink:href=\"#DejaVuSans-48\"/>\r\n      </g>\r\n     </g>\r\n    </g>\r\n    <g id=\"ytick_7\">\r\n     <g id=\"line2d_13\">\r\n      <g>\r\n       <use style=\"stroke:#000000;stroke-width:0.8;\" x=\"39.65\" xlink:href=\"#m1eaf38946e\" y=\"50.576313\"/>\r\n      </g>\r\n     </g>\r\n     <g id=\"text_14\">\r\n      <!-- 2250 -->\r\n      <g transform=\"translate(7.2 54.375532)scale(0.1 -0.1)\">\r\n       <use xlink:href=\"#DejaVuSans-50\"/>\r\n       <use x=\"63.623047\" xlink:href=\"#DejaVuSans-50\"/>\r\n       <use x=\"127.246094\" xlink:href=\"#DejaVuSans-53\"/>\r\n       <use x=\"190.869141\" xlink:href=\"#DejaVuSans-48\"/>\r\n      </g>\r\n     </g>\r\n    </g>\r\n   </g>\r\n   <g id=\"line2d_14\">\r\n    <path clip-path=\"url(#p025356cb3c)\" d=\"M 54.868182 32.201761 \r\nL 65.36348 73.983386 \r\nL 75.858777 94.58161 \r\nL 86.354075 110.73249 \r\nL 96.849373 110.615454 \r\nL 107.344671 114.711692 \r\nL 117.839969 100.667448 \r\nL 128.335266 106.987358 \r\nL 138.830564 126.532264 \r\nL 149.325862 129.809254 \r\nL 159.82116 132.149961 \r\nL 170.316458 123.372309 \r\nL 180.811755 128.521865 \r\nL 191.307053 135.426951 \r\nL 201.802351 144.78978 \r\nL 212.297649 144.906815 \r\nL 222.792947 141.629825 \r\nL 233.288245 143.970533 \r\nL 243.783542 143.853497 \r\nL 254.27884 160.004377 \r\nL 264.774138 156.259246 \r\nL 275.269436 169.601277 \r\nL 285.764734 179.198177 \r\nL 296.260031 174.633798 \r\nL 306.755329 185.049945 \r\nL 317.250627 190.901713 \r\nL 327.745925 185.049945 \r\nL 338.241223 173.580479 \r\nL 348.73652 181.88999 \r\nL 359.231818 229.874489 \r\n\" style=\"fill:none;stroke:#1f77b4;stroke-linecap:square;stroke-width:1.5;\"/>\r\n   </g>\r\n   <g id=\"patch_3\">\r\n    <path d=\"M 39.65 239.758125 \r\nL 39.65 22.318125 \r\n\" style=\"fill:none;stroke:#000000;stroke-linecap:square;stroke-linejoin:miter;stroke-width:0.8;\"/>\r\n   </g>\r\n   <g id=\"patch_4\">\r\n    <path d=\"M 374.45 239.758125 \r\nL 374.45 22.318125 \r\n\" style=\"fill:none;stroke:#000000;stroke-linecap:square;stroke-linejoin:miter;stroke-width:0.8;\"/>\r\n   </g>\r\n   <g id=\"patch_5\">\r\n    <path d=\"M 39.65 239.758125 \r\nL 374.45 239.758125 \r\n\" style=\"fill:none;stroke:#000000;stroke-linecap:square;stroke-linejoin:miter;stroke-width:0.8;\"/>\r\n   </g>\r\n   <g id=\"patch_6\">\r\n    <path d=\"M 39.65 22.318125 \r\nL 374.45 22.318125 \r\n\" style=\"fill:none;stroke:#000000;stroke-linecap:square;stroke-linejoin:miter;stroke-width:0.8;\"/>\r\n   </g>\r\n   <g id=\"text_15\">\r\n    <!-- Fatalities per year -->\r\n    <defs>\r\n     <path d=\"M 9.8125 72.90625 \r\nL 51.703125 72.90625 \r\nL 51.703125 64.59375 \r\nL 19.671875 64.59375 \r\nL 19.671875 43.109375 \r\nL 48.578125 43.109375 \r\nL 48.578125 34.8125 \r\nL 19.671875 34.8125 \r\nL 19.671875 0 \r\nL 9.8125 0 \r\nz\r\n\" id=\"DejaVuSans-70\"/>\r\n     <path d=\"M 18.3125 70.21875 \r\nL 18.3125 54.6875 \r\nL 36.8125 54.6875 \r\nL 36.8125 47.703125 \r\nL 18.3125 47.703125 \r\nL 18.3125 18.015625 \r\nQ 18.3125 11.328125 20.140625 9.421875 \r\nQ 21.96875 7.515625 27.59375 7.515625 \r\nL 36.8125 7.515625 \r\nL 36.8125 0 \r\nL 27.59375 0 \r\nQ 17.1875 0 13.234375 3.875 \r\nQ 9.28125 7.765625 9.28125 18.015625 \r\nL 9.28125 47.703125 \r\nL 2.6875 47.703125 \r\nL 2.6875 54.6875 \r\nL 9.28125 54.6875 \r\nL 9.28125 70.21875 \r\nz\r\n\" id=\"DejaVuSans-116\"/>\r\n     <path d=\"M 9.421875 75.984375 \r\nL 18.40625 75.984375 \r\nL 18.40625 0 \r\nL 9.421875 0 \r\nz\r\n\" id=\"DejaVuSans-108\"/>\r\n     <path d=\"M 9.421875 54.6875 \r\nL 18.40625 54.6875 \r\nL 18.40625 0 \r\nL 9.421875 0 \r\nz\r\nM 9.421875 75.984375 \r\nL 18.40625 75.984375 \r\nL 18.40625 64.59375 \r\nL 9.421875 64.59375 \r\nz\r\n\" id=\"DejaVuSans-105\"/>\r\n     <path d=\"M 44.28125 53.078125 \r\nL 44.28125 44.578125 \r\nQ 40.484375 46.53125 36.375 47.5 \r\nQ 32.28125 48.484375 27.875 48.484375 \r\nQ 21.1875 48.484375 17.84375 46.4375 \r\nQ 14.5 44.390625 14.5 40.28125 \r\nQ 14.5 37.15625 16.890625 35.375 \r\nQ 19.28125 33.59375 26.515625 31.984375 \r\nL 29.59375 31.296875 \r\nQ 39.15625 29.25 43.1875 25.515625 \r\nQ 47.21875 21.78125 47.21875 15.09375 \r\nQ 47.21875 7.46875 41.1875 3.015625 \r\nQ 35.15625 -1.421875 24.609375 -1.421875 \r\nQ 20.21875 -1.421875 15.453125 -0.5625 \r\nQ 10.6875 0.296875 5.421875 2 \r\nL 5.421875 11.28125 \r\nQ 10.40625 8.6875 15.234375 7.390625 \r\nQ 20.0625 6.109375 24.8125 6.109375 \r\nQ 31.15625 6.109375 34.5625 8.28125 \r\nQ 37.984375 10.453125 37.984375 14.40625 \r\nQ 37.984375 18.0625 35.515625 20.015625 \r\nQ 33.0625 21.96875 24.703125 23.78125 \r\nL 21.578125 24.515625 \r\nQ 13.234375 26.265625 9.515625 29.90625 \r\nQ 5.8125 33.546875 5.8125 39.890625 \r\nQ 5.8125 47.609375 11.28125 51.796875 \r\nQ 16.75 56 26.8125 56 \r\nQ 31.78125 56 36.171875 55.265625 \r\nQ 40.578125 54.546875 44.28125 53.078125 \r\nz\r\n\" id=\"DejaVuSans-115\"/>\r\n     <path id=\"DejaVuSans-32\"/>\r\n     <path d=\"M 18.109375 8.203125 \r\nL 18.109375 -20.796875 \r\nL 9.078125 -20.796875 \r\nL 9.078125 54.6875 \r\nL 18.109375 54.6875 \r\nL 18.109375 46.390625 \r\nQ 20.953125 51.265625 25.265625 53.625 \r\nQ 29.59375 56 35.59375 56 \r\nQ 45.5625 56 51.78125 48.09375 \r\nQ 58.015625 40.1875 58.015625 27.296875 \r\nQ 58.015625 14.40625 51.78125 6.484375 \r\nQ 45.5625 -1.421875 35.59375 -1.421875 \r\nQ 29.59375 -1.421875 25.265625 0.953125 \r\nQ 20.953125 3.328125 18.109375 8.203125 \r\nz\r\nM 48.6875 27.296875 \r\nQ 48.6875 37.203125 44.609375 42.84375 \r\nQ 40.53125 48.484375 33.40625 48.484375 \r\nQ 26.265625 48.484375 22.1875 42.84375 \r\nQ 18.109375 37.203125 18.109375 27.296875 \r\nQ 18.109375 17.390625 22.1875 11.75 \r\nQ 26.265625 6.109375 33.40625 6.109375 \r\nQ 40.53125 6.109375 44.609375 11.75 \r\nQ 48.6875 17.390625 48.6875 27.296875 \r\nz\r\n\" id=\"DejaVuSans-112\"/>\r\n     <path d=\"M 32.171875 -5.078125 \r\nQ 28.375 -14.84375 24.75 -17.8125 \r\nQ 21.140625 -20.796875 15.09375 -20.796875 \r\nL 7.90625 -20.796875 \r\nL 7.90625 -13.28125 \r\nL 13.1875 -13.28125 \r\nQ 16.890625 -13.28125 18.9375 -11.515625 \r\nQ 21 -9.765625 23.484375 -3.21875 \r\nL 25.09375 0.875 \r\nL 2.984375 54.6875 \r\nL 12.5 54.6875 \r\nL 29.59375 11.921875 \r\nL 46.6875 54.6875 \r\nL 56.203125 54.6875 \r\nz\r\n\" id=\"DejaVuSans-121\"/>\r\n    </defs>\r\n    <g transform=\"translate(153.1025 16.318125)scale(0.12 -0.12)\">\r\n     <use xlink:href=\"#DejaVuSans-70\"/>\r\n     <use x=\"48.394531\" xlink:href=\"#DejaVuSans-97\"/>\r\n     <use x=\"109.673828\" xlink:href=\"#DejaVuSans-116\"/>\r\n     <use x=\"148.882812\" xlink:href=\"#DejaVuSans-97\"/>\r\n     <use x=\"210.162109\" xlink:href=\"#DejaVuSans-108\"/>\r\n     <use x=\"237.945312\" xlink:href=\"#DejaVuSans-105\"/>\r\n     <use x=\"265.728516\" xlink:href=\"#DejaVuSans-116\"/>\r\n     <use x=\"304.9375\" xlink:href=\"#DejaVuSans-105\"/>\r\n     <use x=\"332.720703\" xlink:href=\"#DejaVuSans-101\"/>\r\n     <use x=\"394.244141\" xlink:href=\"#DejaVuSans-115\"/>\r\n     <use x=\"446.34375\" xlink:href=\"#DejaVuSans-32\"/>\r\n     <use x=\"478.130859\" xlink:href=\"#DejaVuSans-112\"/>\r\n     <use x=\"541.607422\" xlink:href=\"#DejaVuSans-101\"/>\r\n     <use x=\"603.130859\" xlink:href=\"#DejaVuSans-114\"/>\r\n     <use x=\"644.244141\" xlink:href=\"#DejaVuSans-32\"/>\r\n     <use x=\"676.03125\" xlink:href=\"#DejaVuSans-121\"/>\r\n     <use x=\"735.210938\" xlink:href=\"#DejaVuSans-101\"/>\r\n     <use x=\"796.734375\" xlink:href=\"#DejaVuSans-97\"/>\r\n     <use x=\"858.013672\" xlink:href=\"#DejaVuSans-114\"/>\r\n    </g>\r\n   </g>\r\n   <g id=\"legend_1\">\r\n    <g id=\"patch_7\">\r\n     <path d=\"M 290.817188 44.99625 \r\nL 367.45 44.99625 \r\nQ 369.45 44.99625 369.45 42.99625 \r\nL 369.45 29.318125 \r\nQ 369.45 27.318125 367.45 27.318125 \r\nL 290.817188 27.318125 \r\nQ 288.817188 27.318125 288.817188 29.318125 \r\nL 288.817188 42.99625 \r\nQ 288.817188 44.99625 290.817188 44.99625 \r\nz\r\n\" style=\"fill:#ffffff;opacity:0.8;stroke:#cccccc;stroke-linejoin:miter;\"/>\r\n    </g>\r\n    <g id=\"line2d_15\">\r\n     <path d=\"M 292.817188 35.416563 \r\nL 312.817188 35.416563 \r\n\" style=\"fill:none;stroke:#1f77b4;stroke-linecap:square;stroke-width:1.5;\"/>\r\n    </g>\r\n    <g id=\"line2d_16\"/>\r\n    <g id=\"text_16\">\r\n     <!-- Fatalities -->\r\n     <g transform=\"translate(320.817188 38.916563)scale(0.1 -0.1)\">\r\n      <use xlink:href=\"#DejaVuSans-70\"/>\r\n      <use x=\"48.394531\" xlink:href=\"#DejaVuSans-97\"/>\r\n      <use x=\"109.673828\" xlink:href=\"#DejaVuSans-116\"/>\r\n      <use x=\"148.882812\" xlink:href=\"#DejaVuSans-97\"/>\r\n      <use x=\"210.162109\" xlink:href=\"#DejaVuSans-108\"/>\r\n      <use x=\"237.945312\" xlink:href=\"#DejaVuSans-105\"/>\r\n      <use x=\"265.728516\" xlink:href=\"#DejaVuSans-116\"/>\r\n      <use x=\"304.9375\" xlink:href=\"#DejaVuSans-105\"/>\r\n      <use x=\"332.720703\" xlink:href=\"#DejaVuSans-101\"/>\r\n      <use x=\"394.244141\" xlink:href=\"#DejaVuSans-115\"/>\r\n     </g>\r\n    </g>\r\n   </g>\r\n  </g>\r\n </g>\r\n <defs>\r\n  <clipPath id=\"p025356cb3c\">\r\n   <rect height=\"217.44\" width=\"334.8\" x=\"39.65\" y=\"22.318125\"/>\r\n  </clipPath>\r\n </defs>\r\n</svg>\r\n",
      "image/png": "[encoded data removed]"
     },
     "metadata": {
      "needs_background": "light"
     }
    }
   ],
   "source": [
    "import matplotlib.pyplot as plt\n",
    "\n",
    "fatality_info = df_csv.pivot_table(\n",
    "    values = ['Number_of_Fatalities'],\n",
    "    index = ['Year'],\n",
    "    aggfunc = 'count'\n",
    ")\n",
    "print(fatality_info)\n",
    "fatality_info.plot(kind='line', title='Fatalities per year', rot=45)\n",
    "plt.legend(['Fatalities'])\n",
    "plt.show()"
   ]
  },
  {
   "cell_type": "markdown",
   "metadata": {},
   "source": [
    "## Exercise 14\n",
    "\n",
    "1. Create a new folder inside your class repo and send your instructor a link to this set of exercises."
   ]
  },
  {
   "cell_type": "code",
   "execution_count": null,
   "metadata": {},
   "outputs": [],
   "source": []
  }
 ],
 "metadata": {
  "kernelspec": {
   "display_name": "Python 3",
   "language": "python",
   "name": "python3"
  },
  "language_info": {
   "codemirror_mode": {
    "name": "ipython",
    "version": 3
   },
   "file_extension": ".py",
   "mimetype": "text/x-python",
   "name": "python",
   "nbconvert_exporter": "python",
   "pygments_lexer": "ipython3",
   "version": "3.7.7-final"
  }
 },
 "nbformat": 4,
 "nbformat_minor": 4
}